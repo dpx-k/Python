{
 "cells": [
  {
   "cell_type": "code",
   "execution_count": null,
   "id": "dd4bf019",
   "metadata": {},
   "outputs": [
    {
     "name": "stdout",
     "output_type": "stream",
     "text": [
      "<class 'dict'>\n"
     ]
    }
   ],
   "source": [
    "# A dictionary is basically a hash table but python abstracts away all the complexities of the hash table allowing to use it in \n",
    "# a readable manner\n",
    "\n",
    "x = {}\n",
    "print(type(x))"
   ]
  },
  {
   "cell_type": "code",
   "execution_count": null,
   "id": "a1b0dc52",
   "metadata": {},
   "outputs": [
    {
     "name": "stdout",
     "output_type": "stream",
     "text": [
      "{'jpeg': 18, 'csv': 12, 'docx': 45, 'pptx': 20}\n"
     ]
    }
   ],
   "source": [
    "# printing a dictionary\n",
    "\n",
    "x = {'jpeg': 18, 'csv':12, 'docx': 45, 'pptx': 20}\n",
    "print(x)"
   ]
  },
  {
   "cell_type": "code",
   "execution_count": 3,
   "id": "ffae8b85",
   "metadata": {},
   "outputs": [
    {
     "name": "stdout",
     "output_type": "stream",
     "text": [
      "12\n"
     ]
    }
   ],
   "source": [
    "# Accessing an element\n",
    "\n",
    "print(x['csv'])"
   ]
  },
  {
   "cell_type": "markdown",
   "id": "62730cc8",
   "metadata": {},
   "source": [
    "### Dictionary rules and tips\n",
    "\n",
    "1. dictionary follows a key value pair architecture\n",
    "2. the 'key' is immutable\n",
    "3. there can be no duplicate keys in a dict\n",
    "4. if tried to add a duplicate key, the value of the new key will override the value of the previous key\n",
    "5. dictionaries are good for frequency analysis \n",
    "6. they are good for quick look up as they have space complexity of O(1) [since, they implement a hash table]\n",
    "7. to look up for a key, use an if else block to get the key \n",
    "8. to look up for a value, use a while loop \n",
    "9. only immutable data types are used as keys such as numbers, booleans, tuples, strings"
   ]
  },
  {
   "cell_type": "code",
   "execution_count": 4,
   "id": "dc9fd696",
   "metadata": {},
   "outputs": [
    {
     "name": "stdout",
     "output_type": "stream",
     "text": [
      "{'jpeg': 18, 'csv': 20, 'docx': 45, 'pptx': 20}\n"
     ]
    }
   ],
   "source": [
    "# overriding a previous key \n",
    "\n",
    "x['csv'] = 20\n",
    "print(x)"
   ]
  },
  {
   "cell_type": "code",
   "execution_count": 6,
   "id": "a1239e8e",
   "metadata": {},
   "outputs": [
    {
     "name": "stdout",
     "output_type": "stream",
     "text": [
      "{'jpeg': 18, 'csv': 20, 'docx': 45, 'pptx': 20, 'py': 33}\n",
      "{'jpeg': 18, 'csv': 20, 'docx': 45, 'py': 33}\n"
     ]
    }
   ],
   "source": [
    "# Adding a new key\n",
    "x['py'] = 33\n",
    "print(x)\n",
    "\n",
    "# deleting a key (value will also be lost)\n",
    "del x['pptx']\n",
    "\n",
    "print(x)"
   ]
  },
  {
   "cell_type": "code",
   "execution_count": 8,
   "id": "9834b108",
   "metadata": {},
   "outputs": [
    {
     "name": "stdout",
     "output_type": "stream",
     "text": [
      "True\n",
      "False\n"
     ]
    }
   ],
   "source": [
    "# check if key exists in the dict\n",
    "print('docx' in x)\n",
    "print('html' in x)"
   ]
  },
  {
   "cell_type": "code",
   "execution_count": null,
   "id": "e48880d4",
   "metadata": {},
   "outputs": [
    {
     "name": "stdout",
     "output_type": "stream",
     "text": [
      "dict_keys(['jpeg', 'csv', 'docx', 'py'])\n",
      "dict_values([18, 20, 45, 33])\n",
      "dict_items([('jpeg', 18), ('csv', 20), ('docx', 45), ('py', 33)])\n"
     ]
    }
   ],
   "source": [
    "# dictionary methods \n",
    "\n",
    "print(x.keys()) # returns all the keys of the dict \n",
    "print(x.values()) # returns all the values of the dict \n",
    "print(x.items()) # returns all the key value pairs "
   ]
  },
  {
   "cell_type": "code",
   "execution_count": 18,
   "id": "fc2b9684",
   "metadata": {},
   "outputs": [
    {
     "name": "stdout",
     "output_type": "stream",
     "text": [
      "Extension: .jpeg\n",
      "Extension: .csv\n",
      "Extension: .docx\n",
      "Extension: .py\n",
      "\n",
      "filecount: 18\n",
      "filecount: 20\n",
      "filecount: 45\n",
      "filecount: 33\n",
      "\n",
      "Extension: .jpeg, File Count: 18\n",
      "Extension: .csv, File Count: 20\n",
      "Extension: .docx, File Count: 45\n",
      "Extension: .py, File Count: 33\n"
     ]
    }
   ],
   "source": [
    "# iterating through a dictionary \n",
    "\n",
    "# iterating through the keys\n",
    "for key in x.keys(): \n",
    "    print(f\"Extension: .{key}\")\n",
    "\n",
    "print()\n",
    "\n",
    "#iterating through the values \n",
    "for value in x.values(): \n",
    "    print(f\"filecount: {value}\")\n",
    "\n",
    "print()\n",
    "\n",
    "# iterating through both key value pairs \n",
    "for key, value in x.items(): \n",
    "    print(f\"Extension: .{key}, File Count: {value}\")\n"
   ]
  },
  {
   "cell_type": "code",
   "execution_count": 20,
   "id": "cd5408e9",
   "metadata": {},
   "outputs": [
    {
     "name": "stdout",
     "output_type": "stream",
     "text": [
      "{'T': 1, 'h': 4, 'i': 5, 's': 7, ' ': 13, 'a': 2, 'm': 1, 'p': 1, 'l': 2, 'e': 10, 'n': 5, 't': 7, 'c': 4, 'o': 2, 'k': 1, 'f': 2, 'r': 3, 'q': 1, 'u': 1, 'y': 1, 'g': 1}\n",
      "{'a': 10}\n"
     ]
    }
   ],
   "source": [
    "# count the frequency of each letter in a list\n",
    "\n",
    "def count_letters(text): \n",
    "    letter_count = {}\n",
    "\n",
    "    for letter in text: \n",
    "        if letter not in letter_count: \n",
    "            letter_count[letter] = 0\n",
    "        letter_count[letter] += 1\n",
    "    \n",
    "    print(letter_count)\n",
    "\n",
    "text = \"This is a sample sentence to check the frequency of letters in this string\"\n",
    "count_letters(text)\n",
    "\n",
    "count_letters('aaaaaaaaaa')"
   ]
  },
  {
   "cell_type": "code",
   "execution_count": 21,
   "id": "2fb5d117",
   "metadata": {},
   "outputs": [
    {
     "data": {
      "text/plain": [
       "4"
      ]
     },
     "execution_count": 21,
     "metadata": {},
     "output_type": "execute_result"
    }
   ],
   "source": [
    "len(x) #returns the number of key-value pairs in the dictionary"
   ]
  },
  {
   "cell_type": "code",
   "execution_count": 23,
   "id": "478290b3",
   "metadata": {},
   "outputs": [
    {
     "name": "stdout",
     "output_type": "stream",
     "text": [
      "{'jpeg': 18, 'csv': 20, 'docx': 45, 'py': 33}\n",
      "{}\n"
     ]
    }
   ],
   "source": [
    "y = x.copy() # creates a shallow copy of the dictionary\n",
    "print(y)\n",
    "\n",
    "# clear all elements using the clear() method \n",
    "y.clear()\n",
    "print(y)\n"
   ]
  },
  {
   "cell_type": "code",
   "execution_count": null,
   "id": "4f6f7fc2",
   "metadata": {},
   "outputs": [
    {
     "name": "stdout",
     "output_type": "stream",
     "text": [
      "None\n"
     ]
    }
   ],
   "source": [
    "x.get('docx') # fetches the value of the key and returns it \n",
    "\n",
    "print(x.get('html')) # returns None as the key doesn't exist "
   ]
  }
 ],
 "metadata": {
  "kernelspec": {
   "display_name": "cortex_engine",
   "language": "python",
   "name": "python3"
  },
  "language_info": {
   "codemirror_mode": {
    "name": "ipython",
    "version": 3
   },
   "file_extension": ".py",
   "mimetype": "text/x-python",
   "name": "python",
   "nbconvert_exporter": "python",
   "pygments_lexer": "ipython3",
   "version": "3.13.2"
  }
 },
 "nbformat": 4,
 "nbformat_minor": 5
}
