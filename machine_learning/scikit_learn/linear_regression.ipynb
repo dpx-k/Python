{
 "cells": [
  {
   "cell_type": "markdown",
   "id": "7b6a93fe",
   "metadata": {},
   "source": [
    "# Linear Regression"
   ]
  },
  {
   "cell_type": "code",
   "execution_count": null,
   "id": "219f2942",
   "metadata": {},
   "outputs": [],
   "source": [
    "from sklearn import datasets\n",
    "from sklearn import linear_model\n",
    "from sklearn.model_selection import train_test_split \n",
    "import matplotlib.pyplot as plt"
   ]
  },
  {
   "cell_type": "code",
   "execution_count": null,
   "id": "d116816d",
   "metadata": {},
   "outputs": [],
   "source": [
    "california = datasets.fetch_california_housing()\n",
    "\n",
    "# features and labels\n",
    "X = california.data\n",
    "y = california.target\n",
    "\n",
    "print(X.shape)\n",
    "print(y.shape)\n",
    "\n",
    "print(X)\n",
    "print(y)"
   ]
  },
  {
   "cell_type": "code",
   "execution_count": null,
   "id": "046e7d39",
   "metadata": {},
   "outputs": [],
   "source": [
    "# sample scatter plot for the dataset\n",
    "plt.scatter(X.T[5], y)\n",
    "plt.show()"
   ]
  },
  {
   "cell_type": "code",
   "execution_count": 16,
   "id": "0a25827d",
   "metadata": {},
   "outputs": [
    {
     "name": "stdout",
     "output_type": "stream",
     "text": [
      "Predictions:  [2.94865792 1.84517158 1.79641643 ... 2.58253722 2.05816131 3.93782872]\n",
      "R^2 value:  0.605901002356621\n",
      "Coeffecient:  [ 4.38271367e-01  9.33298589e-03 -1.11430077e-01  6.24121591e-01\n",
      " -4.95863171e-06 -4.70387574e-03 -4.17381013e-01 -4.31171233e-01]\n",
      "intercept:  -36.63961011461689\n"
     ]
    }
   ],
   "source": [
    "# creating the linear regression model \n",
    "linear_reg = linear_model.LinearRegression()\n",
    "\n",
    "# split the dataset\n",
    "X_train, X_test, y_train, y_test = train_test_split(X, y, test_size=0.2)\n",
    "\n",
    "# train the model \n",
    "model = linear_reg.fit(X_train, y_train)\n",
    "\n",
    "# predictions \n",
    "predictions = model.predict(X_test)\n",
    "print(\"Predictions: \", predictions)\n",
    "print(\"R^2 value: \", linear_reg.score(X,y))\n",
    "print(\"Coeffecient: \", linear_reg.coef_)\n",
    "print('intercept: ', linear_reg.intercept_)"
   ]
  },
  {
   "cell_type": "code",
   "execution_count": null,
   "id": "d703e790",
   "metadata": {},
   "outputs": [],
   "source": []
  }
 ],
 "metadata": {
  "kernelspec": {
   "display_name": ".cortex_engine",
   "language": "python",
   "name": "python3"
  },
  "language_info": {
   "codemirror_mode": {
    "name": "ipython",
    "version": 3
   },
   "file_extension": ".py",
   "mimetype": "text/x-python",
   "name": "python",
   "nbconvert_exporter": "python",
   "pygments_lexer": "ipython3",
   "version": "3.13.2"
  }
 },
 "nbformat": 4,
 "nbformat_minor": 5
}
