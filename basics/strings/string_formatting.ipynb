{
 "cells": [
  {
   "cell_type": "markdown",
   "id": "6ce066b1",
   "metadata": {},
   "source": [
    "### F Strings \n",
    "\n",
    "f strings are more better, readable than the format method"
   ]
  },
  {
   "cell_type": "code",
   "execution_count": 6,
   "id": "a7433246",
   "metadata": {},
   "outputs": [
    {
     "name": "stdout",
     "output_type": "stream",
     "text": [
      "Name: Deepak\n",
      "Age: 18\n",
      "State: 1.16\n"
     ]
    }
   ],
   "source": [
    "import math\n",
    "\n",
    "name = \"Deepak\" \n",
    "age = 18\n",
    "floating_state = math.pi / math.e\n",
    "\n",
    "print(f\"Name: {name}\\nAge: {age}\\nState: {floating_state:.2f}\")"
   ]
  }
 ],
 "metadata": {
  "kernelspec": {
   "display_name": "cortex_engine",
   "language": "python",
   "name": "python3"
  },
  "language_info": {
   "codemirror_mode": {
    "name": "ipython",
    "version": 3
   },
   "file_extension": ".py",
   "mimetype": "text/x-python",
   "name": "python",
   "nbconvert_exporter": "python",
   "pygments_lexer": "ipython3",
   "version": "3.13.2"
  }
 },
 "nbformat": 4,
 "nbformat_minor": 5
}
