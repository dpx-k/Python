{
 "cells": [
  {
   "cell_type": "code",
   "execution_count": 3,
   "id": "1a792840",
   "metadata": {},
   "outputs": [
    {
     "name": "stdout",
     "output_type": "stream",
     "text": [
      "Hello, Alice!\n",
      "Hello, Bob!\n",
      "Hello, Charlie!\n"
     ]
    }
   ],
   "source": [
    "# *args lets you pass a variable number of positional arguments to a function.\n",
    "\n",
    "def greet(*args):\n",
    "    for name in args:\n",
    "        print(f\"Hello, {name}!\")\n",
    "\n",
    "greet(\"Alice\", \"Bob\", \"Charlie\")\n"
   ]
  },
  {
   "cell_type": "code",
   "execution_count": 4,
   "id": "23155fe1",
   "metadata": {},
   "outputs": [
    {
     "name": "stdout",
     "output_type": "stream",
     "text": [
      "10\n"
     ]
    }
   ],
   "source": [
    "# another example\n",
    "\n",
    "def add_all(*numbers):\n",
    "    return sum(numbers)\n",
    "\n",
    "print(add_all(2, 3, 5))  # 10\n"
   ]
  },
  {
   "cell_type": "code",
   "execution_count": 5,
   "id": "2b9008f6",
   "metadata": {},
   "outputs": [
    {
     "name": "stdout",
     "output_type": "stream",
     "text": [
      "Age: 25\n",
      "Names: ('Tom', 'Jerry', 'Spike')\n"
     ]
    }
   ],
   "source": [
    "# *args with regular parameters\n",
    "def show_info(age, *names):\n",
    "    print(f\"Age: {age}\")\n",
    "    print(\"Names:\", names)\n",
    "\n",
    "show_info(25, \"Tom\", \"Jerry\", \"Spike\")\n"
   ]
  },
  {
   "cell_type": "code",
   "execution_count": 6,
   "id": "57df1d87",
   "metadata": {},
   "outputs": [
    {
     "name": "stdout",
     "output_type": "stream",
     "text": [
      "Item: 1\n",
      "Item: 2\n",
      "Item: 3\n",
      "Item: a\n"
     ]
    }
   ],
   "source": [
    "# using *args in class methods\n",
    "class Example:\n",
    "    def print_all(self, *args):\n",
    "        for item in args:\n",
    "            print(f\"Item: {item}\")\n",
    "\n",
    "e = Example()\n",
    "e.print_all(1, 2, 3, 'a')\n"
   ]
  },
  {
   "cell_type": "code",
   "execution_count": 8,
   "id": "f6b4cf70",
   "metadata": {},
   "outputs": [
    {
     "name": "stdout",
     "output_type": "stream",
     "text": [
      "24\n"
     ]
    }
   ],
   "source": [
    "# Unpacking list and tuples into function calls\n",
    "\n",
    "def multiply(a, b, c):\n",
    "    return a * b * c\n",
    "\n",
    "nums = (2, 3, 4)\n",
    "print(multiply(*nums))  # same as multiply(2, 3, 4)"
   ]
  },
  {
   "cell_type": "code",
   "execution_count": 7,
   "id": "38f4060c",
   "metadata": {},
   "outputs": [
    {
     "name": "stdout",
     "output_type": "stream",
     "text": [
      "[1, 2, 3, 4]\n"
     ]
    }
   ],
   "source": [
    "# Unpacking in list creation\n",
    "a = [1, 2]\n",
    "b = [3, 4]\n",
    "combined = [*a, *b]\n",
    "print(combined)  # [1, 2, 3, 4]"
   ]
  },
  {
   "cell_type": "code",
   "execution_count": 10,
   "id": "bf913013",
   "metadata": {},
   "outputs": [
    {
     "name": "stdout",
     "output_type": "stream",
     "text": [
      "32\n"
     ]
    }
   ],
   "source": [
    "# args in lambda or higher order functions\n",
    "def call_with_args(func, *args):\n",
    "    return func(*args)\n",
    "\n",
    "print(call_with_args(pow, 2, 5))  # 2^5 = 32\n"
   ]
  },
  {
   "cell_type": "code",
   "execution_count": 11,
   "id": "124a8bb9",
   "metadata": {},
   "outputs": [
    {
     "name": "stdout",
     "output_type": "stream",
     "text": [
      "name: Alice\n",
      "age: 25\n",
      "city: Delhi\n"
     ]
    }
   ],
   "source": [
    "# KEYWORD ARGUMENTS\n",
    "\n",
    "def show_profile(**kwargs):\n",
    "    for key, value in kwargs.items():\n",
    "        print(f\"{key}: {value}\")\n",
    "\n",
    "show_profile(name=\"Alice\", age=25, city=\"Delhi\")\n"
   ]
  },
  {
   "cell_type": "code",
   "execution_count": 12,
   "id": "2b38bb75",
   "metadata": {},
   "outputs": [
    {
     "name": "stdout",
     "output_type": "stream",
     "text": [
      "Debug mode ON\n"
     ]
    }
   ],
   "source": [
    "# EXAMPLE 1: Accepting flexbile arguments\n",
    "def config(**settings):\n",
    "    if settings.get('debug'):\n",
    "        print(\"Debug mode ON\")\n",
    "\n",
    "config(debug=True, timeout=30)"
   ]
  },
  {
   "cell_type": "code",
   "execution_count": 13,
   "id": "a0597521",
   "metadata": {},
   "outputs": [
    {
     "name": "stdout",
     "output_type": "stream",
     "text": [
      "Processing: image.png\n",
      "Logging: {'user': 'admin', 'verbose': True}\n"
     ]
    }
   ],
   "source": [
    "# EXAMPLE 2: Forwarding arguments to another function\n",
    "def log(**kwargs):\n",
    "    print(\"Logging:\", kwargs)\n",
    "\n",
    "def process(data, **kwargs):\n",
    "    print(\"Processing:\", data)\n",
    "    log(**kwargs)  # forwards keyword args\n",
    "\n",
    "process(\"image.png\", user=\"admin\", verbose=True)\n"
   ]
  },
  {
   "cell_type": "code",
   "execution_count": 9,
   "id": "49a35b68",
   "metadata": {},
   "outputs": [
    {
     "name": "stdout",
     "output_type": "stream",
     "text": [
      "Name: Alice\n",
      "Other args: ('Engineer', 25)\n",
      "Keyword args: {'city': 'Delhi', 'country': 'India'}\n"
     ]
    }
   ],
   "source": [
    "# Combine args and kwargs\n",
    "def profile(name, *args, **kwargs):\n",
    "    print(\"Name:\", name)\n",
    "    print(\"Other args:\", args)\n",
    "    print(\"Keyword args:\", kwargs)\n",
    "\n",
    "profile(\"Alice\", \"Engineer\", 25, city=\"Delhi\", country=\"India\")\n"
   ]
  },
  {
   "cell_type": "code",
   "execution_count": 14,
   "id": "ec237f30",
   "metadata": {},
   "outputs": [
    {
     "name": "stdout",
     "output_type": "stream",
     "text": [
      "Hello Bob, you are 30 years old.\n"
     ]
    }
   ],
   "source": [
    "# Unpacking Kwargs to function  calls\n",
    "def greet(name, age):\n",
    "    print(f\"Hello {name}, you are {age} years old.\")\n",
    "\n",
    "info = {\"name\": \"Bob\", \"age\": 30}\n",
    "greet(**info)  # same as greet(name=\"Bob\", age=30)"
   ]
  },
  {
   "cell_type": "code",
   "execution_count": 15,
   "id": "1696ba20",
   "metadata": {},
   "outputs": [
    {
     "name": "stdout",
     "output_type": "stream",
     "text": [
      "a: 1\n",
      "args: (2, 3)\n",
      "kwargs: {'x': 10, 'y': 20}\n"
     ]
    }
   ],
   "source": [
    "# args and kwargs together\n",
    "def example(a, *args, **kwargs):\n",
    "    print(\"a:\", a)\n",
    "    print(\"args:\", args)\n",
    "    print(\"kwargs:\", kwargs)\n",
    "\n",
    "example(1, 2, 3, x=10, y=20)\n"
   ]
  },
  {
   "cell_type": "code",
   "execution_count": null,
   "id": "c6a9371a",
   "metadata": {},
   "outputs": [],
   "source": [
    "def func(normal, *args, default=42, **kwargs):\n",
    "             ↓        ↓        ↓         ↓\n",
    "        positional   extra   keyword   extra keyword\n"
   ]
  },
  {
   "cell_type": "markdown",
   "id": "1961711f",
   "metadata": {},
   "source": [
    "- **kwargs must appear after all positional and *args parameters.\n",
    "\n",
    "- It is always a dictionary, even if no keyword arguments are passed."
   ]
  }
 ],
 "metadata": {
  "kernelspec": {
   "display_name": ".cortex_engine",
   "language": "python",
   "name": "python3"
  },
  "language_info": {
   "codemirror_mode": {
    "name": "ipython",
    "version": 3
   },
   "file_extension": ".py",
   "mimetype": "text/x-python",
   "name": "python",
   "nbconvert_exporter": "python",
   "pygments_lexer": "ipython3",
   "version": "3.13.2"
  }
 },
 "nbformat": 4,
 "nbformat_minor": 5
}
