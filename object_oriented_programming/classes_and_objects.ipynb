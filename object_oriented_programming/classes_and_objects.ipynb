{
 "cells": [
  {
   "cell_type": "code",
   "execution_count": 4,
   "id": "3893e67b",
   "metadata": {},
   "outputs": [
    {
     "name": "stdout",
     "output_type": "stream",
     "text": [
      "An apple which is Red in color and Sweet in taste\n",
      "An apple which is Red in color and Tart in taste\n"
     ]
    }
   ],
   "source": [
    "# Basic class with a constructor\n",
    "\n",
    "class Apple:\n",
    "    def __init__(self, color, flavor):\n",
    "        self.color = color\n",
    "        self.flavor = flavor\n",
    "\n",
    "    # controls what is printed when the print function is used on the object\n",
    "    def __str__(self):\n",
    "        return f\"An apple which is {self.color} in color and {self.flavor} in taste\"\n",
    "\n",
    "honeycrisp = Apple('Red', 'Sweet')\n",
    "fuji = Apple(\"Red\", \"Tart\")\n",
    "\n",
    "print(honeycrisp)\n",
    "print(fuji)\n"
   ]
  },
  {
   "cell_type": "code",
   "execution_count": 7,
   "id": "d69158c9",
   "metadata": {},
   "outputs": [
    {
     "name": "stdout",
     "output_type": "stream",
     "text": [
      "Area of circle 1: 94934.55\n",
      "Area of circle 2: 12033.47\n",
      "106968.02330965076\n"
     ]
    }
   ],
   "source": [
    "# Operator level Polymorphism \n",
    "\n",
    "from math import pi, pow\n",
    "\n",
    "class Circle: \n",
    "    def __init__(self, diameter):\n",
    "        self.diameter = diameter\n",
    "        self.radius = diameter / 2\n",
    "\n",
    "    def circumference(self):\n",
    "        return 2 * pi * self.radius\n",
    "    \n",
    "    def area(self): \n",
    "        return pi * pow(self.radius, 2)\n",
    "    \n",
    "    def __add__(self, other): \n",
    "        return self.area() + other.area()\n",
    "    \n",
    "circle1 = Circle(347.67)\n",
    "circle2 = Circle(123.78)\n",
    "        \n",
    "print(f\"Area of circle 1: {circle1.area():.2f}\")\n",
    "print(f\"Area of circle 2: {circle2.area():.2f}\")\n",
    "\n",
    "print(circle1 + circle2)\n",
    "\n"
   ]
  }
 ],
 "metadata": {
  "kernelspec": {
   "display_name": "cortex_engine",
   "language": "python",
   "name": "python3"
  },
  "language_info": {
   "codemirror_mode": {
    "name": "ipython",
    "version": 3
   },
   "file_extension": ".py",
   "mimetype": "text/x-python",
   "name": "python",
   "nbconvert_exporter": "python",
   "pygments_lexer": "ipython3",
   "version": "3.13.2"
  }
 },
 "nbformat": 4,
 "nbformat_minor": 5
}
