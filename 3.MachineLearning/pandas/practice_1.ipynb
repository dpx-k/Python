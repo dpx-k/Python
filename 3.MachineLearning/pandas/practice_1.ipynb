{
 "cells": [
  {
   "cell_type": "code",
   "execution_count": null,
   "id": "a8a96697",
   "metadata": {},
   "outputs": [],
   "source": [
    "import pandas as pd"
   ]
  },
  {
   "cell_type": "code",
   "execution_count": 58,
   "id": "00d9961b",
   "metadata": {},
   "outputs": [
    {
     "name": "stdout",
     "output_type": "stream",
     "text": [
      "<class 'pandas.core.frame.DataFrame'>\n",
      "RangeIndex: 145500 entries, 0 to 145499\n",
      "Data columns (total 10 columns):\n",
      " #   Column        Non-Null Count   Dtype  \n",
      "---  ------        --------------   -----  \n",
      " 0   athlete_id    145500 non-null  int64  \n",
      " 1   name          145500 non-null  object \n",
      " 2   born_date     143693 non-null  object \n",
      " 3   born_city     110908 non-null  object \n",
      " 4   born_region   110908 non-null  object \n",
      " 5   born_country  110908 non-null  object \n",
      " 6   country       145499 non-null  object \n",
      " 7   height_cm     106651 non-null  float64\n",
      " 8   weight_kg     102070 non-null  float64\n",
      " 9   died_date     33940 non-null   object \n",
      "dtypes: float64(2), int64(1), object(7)\n",
      "memory usage: 11.1+ MB\n"
     ]
    }
   ],
   "source": [
    "bios = pd.read_csv('datasets/bios.csv')\n",
    "bios.head()\n",
    "\n",
    "bios.info()"
   ]
  },
  {
   "cell_type": "code",
   "execution_count": null,
   "id": "e9b4af0b",
   "metadata": {},
   "outputs": [],
   "source": [
    "bios.loc[0] # fetches the data from the specified row, in this case 0th row\n",
    "\n",
    "# fetch multiple rows (pass a list as the index)\n",
    "bios.loc[[0,1,2]]\n",
    "bios.loc[[23,45,67]] # you can pass the rows numbers without a sequence"
   ]
  },
  {
   "cell_type": "code",
   "execution_count": null,
   "id": "d2cf5a24",
   "metadata": {},
   "outputs": [],
   "source": [
    "# you can slice too\n",
    "bios.loc[10:25]"
   ]
  },
  {
   "cell_type": "code",
   "execution_count": null,
   "id": "e896343d",
   "metadata": {},
   "outputs": [
    {
     "data": {
      "text/html": [
       "<div>\n",
       "<style scoped>\n",
       "    .dataframe tbody tr th:only-of-type {\n",
       "        vertical-align: middle;\n",
       "    }\n",
       "\n",
       "    .dataframe tbody tr th {\n",
       "        vertical-align: top;\n",
       "    }\n",
       "\n",
       "    .dataframe thead th {\n",
       "        text-align: right;\n",
       "    }\n",
       "</style>\n",
       "<table border=\"1\" class=\"dataframe\">\n",
       "  <thead>\n",
       "    <tr style=\"text-align: right;\">\n",
       "      <th></th>\n",
       "      <th>name</th>\n",
       "      <th>born_date</th>\n",
       "      <th>country</th>\n",
       "    </tr>\n",
       "  </thead>\n",
       "  <tbody>\n",
       "    <tr>\n",
       "      <th>0</th>\n",
       "      <td>Jean-François Blanchy</td>\n",
       "      <td>1886-12-12</td>\n",
       "      <td>France</td>\n",
       "    </tr>\n",
       "    <tr>\n",
       "      <th>1</th>\n",
       "      <td>Arnaud Boetsch</td>\n",
       "      <td>1969-04-01</td>\n",
       "      <td>France</td>\n",
       "    </tr>\n",
       "    <tr>\n",
       "      <th>2</th>\n",
       "      <td>Jean Borotra</td>\n",
       "      <td>1898-08-13</td>\n",
       "      <td>France</td>\n",
       "    </tr>\n",
       "    <tr>\n",
       "      <th>3</th>\n",
       "      <td>Jacques Brugnon</td>\n",
       "      <td>1895-05-11</td>\n",
       "      <td>France</td>\n",
       "    </tr>\n",
       "    <tr>\n",
       "      <th>4</th>\n",
       "      <td>Albert Canet</td>\n",
       "      <td>1878-04-17</td>\n",
       "      <td>France</td>\n",
       "    </tr>\n",
       "    <tr>\n",
       "      <th>...</th>\n",
       "      <td>...</td>\n",
       "      <td>...</td>\n",
       "      <td>...</td>\n",
       "    </tr>\n",
       "    <tr>\n",
       "      <th>144646</th>\n",
       "      <td>Alexia Queyrel</td>\n",
       "      <td>1999-06-03</td>\n",
       "      <td>France</td>\n",
       "    </tr>\n",
       "    <tr>\n",
       "      <th>144647</th>\n",
       "      <td>Léo Le Blé Jaques</td>\n",
       "      <td>1997-01-02</td>\n",
       "      <td>France</td>\n",
       "    </tr>\n",
       "    <tr>\n",
       "      <th>144648</th>\n",
       "      <td>Liam Tourki</td>\n",
       "      <td>1999-03-25</td>\n",
       "      <td>France</td>\n",
       "    </tr>\n",
       "    <tr>\n",
       "      <th>144649</th>\n",
       "      <td>Gwendoline Daudet</td>\n",
       "      <td>1998-11-28</td>\n",
       "      <td>France</td>\n",
       "    </tr>\n",
       "    <tr>\n",
       "      <th>145498</th>\n",
       "      <td>André Foussard</td>\n",
       "      <td>1899-05-19</td>\n",
       "      <td>France</td>\n",
       "    </tr>\n",
       "  </tbody>\n",
       "</table>\n",
       "<p>6339 rows × 3 columns</p>\n",
       "</div>"
      ],
      "text/plain": [
       "                         name   born_date country\n",
       "0       Jean-François Blanchy  1886-12-12  France\n",
       "1              Arnaud Boetsch  1969-04-01  France\n",
       "2                Jean Borotra  1898-08-13  France\n",
       "3             Jacques Brugnon  1895-05-11  France\n",
       "4                Albert Canet  1878-04-17  France\n",
       "...                       ...         ...     ...\n",
       "144646         Alexia Queyrel  1999-06-03  France\n",
       "144647      Léo Le Blé Jaques  1997-01-02  France\n",
       "144648            Liam Tourki  1999-03-25  France\n",
       "144649      Gwendoline Daudet  1998-11-28  France\n",
       "145498         André Foussard  1899-05-19  France\n",
       "\n",
       "[6339 rows x 3 columns]"
      ]
     },
     "execution_count": 46,
     "metadata": {},
     "output_type": "execute_result"
    }
   ],
   "source": [
    "# you can get specific rows and columns too \n",
    "bios.loc[25:50, [\"name\", 'country', 'born_date', 'died_date']]\n",
    "\n",
    "bios.loc[pd.isna(bios['died_date']), ['name', 'born_date', 'country', 'died_date']]\n",
    "\n",
    "bios.loc[bios['country'] == \"France\", ['name', 'born_date', 'country']]\n"
   ]
  },
  {
   "cell_type": "code",
   "execution_count": 57,
   "id": "877535d8",
   "metadata": {},
   "outputs": [
    {
     "data": {
      "text/plain": [
       "pandas.core.series.Series"
      ]
     },
     "execution_count": 57,
     "metadata": {},
     "output_type": "execute_result"
    }
   ],
   "source": [
    "# unique values \n",
    "bios['country'].unique()\n",
    "\n",
    "bios.loc[(bios['country'] == 'India') & (pd.isna(bios['died_date']))]\n",
    "\n",
    "type(bios['born_date'])"
   ]
  }
 ],
 "metadata": {
  "kernelspec": {
   "display_name": ".cortex_engine",
   "language": "python",
   "name": "python3"
  },
  "language_info": {
   "codemirror_mode": {
    "name": "ipython",
    "version": 3
   },
   "file_extension": ".py",
   "mimetype": "text/x-python",
   "name": "python",
   "nbconvert_exporter": "python",
   "pygments_lexer": "ipython3",
   "version": "3.13.2"
  }
 },
 "nbformat": 4,
 "nbformat_minor": 5
}
