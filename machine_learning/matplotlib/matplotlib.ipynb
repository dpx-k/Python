{
 "cells": [
  {
   "cell_type": "code",
   "execution_count": null,
   "id": "deb620d3",
   "metadata": {},
   "outputs": [],
   "source": [
    "import matplotlib.pyplot as plt"
   ]
  },
  {
   "cell_type": "code",
   "execution_count": null,
   "id": "886a67e9",
   "metadata": {},
   "outputs": [],
   "source": [
    "x = [i for i in range(10)]\n",
    "print(x)\n",
    "\n",
    "y = [i * 2 for i in range(10)]\n",
    "print(y)"
   ]
  },
  {
   "cell_type": "code",
   "execution_count": null,
   "id": "33fb89b6",
   "metadata": {},
   "outputs": [],
   "source": [
    "# plot a line graph\n",
    "plt.xlabel('x-axis')\n",
    "plt.ylabel('y-axis')\n",
    "plt.plot(x, y)  # size of x and y must be same"
   ]
  },
  {
   "cell_type": "code",
   "execution_count": null,
   "id": "ad668faa",
   "metadata": {},
   "outputs": [],
   "source": [
    "# plot a scatter plot \n",
    "plt.xlabel(\"x-axis\")\n",
    "plt.ylabel('y-axis')\n",
    "plt.scatter(x, y)"
   ]
  }
 ],
 "metadata": {
  "kernelspec": {
   "display_name": "cortex_engine",
   "language": "python",
   "name": "python3"
  },
  "language_info": {
   "codemirror_mode": {
    "name": "ipython",
    "version": 3
   },
   "file_extension": ".py",
   "mimetype": "text/x-python",
   "name": "python",
   "nbconvert_exporter": "python",
   "pygments_lexer": "ipython3",
   "version": "3.13.2"
  }
 },
 "nbformat": 4,
 "nbformat_minor": 5
}
