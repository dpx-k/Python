{
 "cells": [
  {
   "cell_type": "markdown",
   "id": "20885900",
   "metadata": {},
   "source": [
    "### String Methods in Python\n",
    "\n",
    "strings are immutable in python, any method applied to a string is applied to it's copy not to the original string"
   ]
  },
  {
   "cell_type": "code",
   "execution_count": null,
   "id": "600dc53b",
   "metadata": {},
   "outputs": [
    {
     "name": "stdout",
     "output_type": "stream",
     "text": [
      "MOUNTAIN mountain\n"
     ]
    }
   ],
   "source": [
    "lowercase = \"MouNTAin\".lower() # Converts Everything to Uppercase  \n",
    "uppercase = \"MOuntAIn\".upper() # Converts Everything to lowercase\n",
    "\n",
    "print(uppercase, lowercase)"
   ]
  },
  {
   "cell_type": "code",
   "execution_count": 5,
   "id": "55d46d43",
   "metadata": {},
   "outputs": [
    {
     "name": "stdout",
     "output_type": "stream",
     "text": [
      "User said yes\n"
     ]
    }
   ],
   "source": [
    "# match strings \n",
    "\n",
    "answer = \"YES\"\n",
    "if answer.lower() == \"yes\":\n",
    "  print(\"User said yes\")"
   ]
  },
  {
   "cell_type": "code",
   "execution_count": null,
   "id": "674108ef",
   "metadata": {},
   "outputs": [
    {
     "data": {
      "text/plain": [
       "'yes'"
      ]
     },
     "execution_count": 7,
     "metadata": {},
     "output_type": "execute_result"
    }
   ],
   "source": [
    "# Remove trailing whitespaces\n",
    "\n",
    "\" yes \".strip() # strip all whitespaces\n",
    "\" yes \".lstrip() # strip whitespaces at left\n",
    "\" yes \".rstrip() # strip whitespaces at right"
   ]
  },
  {
   "cell_type": "code",
   "execution_count": 8,
   "id": "d25fb006",
   "metadata": {},
   "outputs": [
    {
     "name": "stdout",
     "output_type": "stream",
     "text": [
      "4\n"
     ]
    }
   ],
   "source": [
    "sample_string =  \"The number of times e occurs in this string is 4\"\n",
    "\n",
    "# count the occurences of the specified character \n",
    "print(sample_string.count(\"e\"))"
   ]
  },
  {
   "cell_type": "code",
   "execution_count": 1,
   "id": "a0bd877d",
   "metadata": {},
   "outputs": [
    {
     "data": {
      "text/plain": [
       "True"
      ]
     },
     "execution_count": 1,
     "metadata": {},
     "output_type": "execute_result"
    }
   ],
   "source": [
    "# check if a string ends with a specified substring\n",
    "\n",
    "\"Forest\".endswith(\"rest\")\n",
    "\n",
    "# check if a string starts with a specified substring \n",
    "\"Forest\".startswith(\"For\")"
   ]
  },
  {
   "cell_type": "code",
   "execution_count": 20,
   "id": "9e30ebda",
   "metadata": {},
   "outputs": [
    {
     "name": "stdout",
     "output_type": "stream",
     "text": [
      "False\n",
      "True\n",
      "False\n",
      "True\n"
     ]
    }
   ],
   "source": [
    "# Check if the string is numeric\n",
    "\n",
    "print(\"Forest\".isnumeric())\n",
    "print(\"12345\".isnumeric())\n",
    "\n",
    "print(\"Python3\".isnumeric()) # string should be completely numeric to be true\n",
    "\n",
    "# similarly check if the string is alphabetic \n",
    "print(\"Forest\".isalpha())\n"
   ]
  },
  {
   "cell_type": "code",
   "execution_count": 23,
   "id": "db78c614",
   "metadata": {},
   "outputs": [
    {
     "name": "stdout",
     "output_type": "stream",
     "text": [
      "['This', 'is', 'Python', '3']\n",
      "['How', 'much', 'wood', 'would', 'a', 'woodchuck', 'chuck']\n"
     ]
    }
   ],
   "source": [
    "# Spilt each word in a string and pack it into a list (using the split function)\n",
    "example = \"This is Python 3\"\n",
    "word_list = example.split()\n",
    "print(word_list)\n",
    "\n",
    "# arguments can be passed to the split function\n",
    "test = \"How-much-wood-would-a-woodchuck-chuck\"\n",
    "print(test.split(\"-\"))"
   ]
  },
  {
   "cell_type": "code",
   "execution_count": 19,
   "id": "6fa09d40",
   "metadata": {},
   "outputs": [
    {
     "data": {
      "text/plain": [
       "'This...is...Python...3'"
      ]
     },
     "execution_count": 19,
     "metadata": {},
     "output_type": "execute_result"
    }
   ],
   "source": [
    "# join the words into sentences using the .join method\n",
    "\n",
    "\" \".join(word_list) # whitespace is used as the gum between the words\n",
    "\n",
    "\"...\".join (word_list) # parameter is changed"
   ]
  },
  {
   "cell_type": "code",
   "execution_count": 30,
   "id": "b32dd8d2",
   "metadata": {},
   "outputs": [
    {
     "name": "stdout",
     "output_type": "stream",
     "text": [
      "How much wood would a woodchuck chuck\n",
      "How much wood would a lumberjack chop\n"
     ]
    }
   ],
   "source": [
    "# replace string with old substring with new substring \n",
    "\n",
    "sentence = test.split(\"-\")\n",
    "sentence = \" \".join(sentence)\n",
    "\n",
    "print(sentence)\n",
    "\n",
    "new_sentence = sentence.replace(\"woodchuck chuck\", \"lumberjack chop\")\n",
    "print(new_sentence)"
   ]
  },
  {
   "cell_type": "code",
   "execution_count": 1,
   "id": "43bc2ba1",
   "metadata": {},
   "outputs": [
    {
     "name": "stdout",
     "output_type": "stream",
     "text": [
      "0.3333333333333333\n",
      "0.5\n",
      "1.0\n",
      "Got an error float division by zero\n"
     ]
    }
   ],
   "source": [
    "try:\n",
    "    for i in range(5):\n",
    "        print(1.0 / (3-i))\n",
    "except Exception as error_inst:\n",
    "    print(\"Got an error\", error_inst)"
   ]
  }
 ],
 "metadata": {
  "kernelspec": {
   "display_name": ".cortex_engine",
   "language": "python",
   "name": "python3"
  },
  "language_info": {
   "codemirror_mode": {
    "name": "ipython",
    "version": 3
   },
   "file_extension": ".py",
   "mimetype": "text/x-python",
   "name": "python",
   "nbconvert_exporter": "python",
   "pygments_lexer": "ipython3",
   "version": "3.13.2"
  }
 },
 "nbformat": 4,
 "nbformat_minor": 5
}
