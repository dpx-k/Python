{
 "cells": [
  {
   "cell_type": "code",
   "execution_count": null,
   "id": "6c80d357",
   "metadata": {},
   "outputs": [
    {
     "name": "stdout",
     "output_type": "stream",
     "text": [
      "Name: Alice\n",
      "DOB: 29\n",
      "1\n"
     ]
    }
   ],
   "source": [
    "# SINGLE INHERITANCE EXAMPLE 1\n",
    "CURRENT_YEAR = 2025\n",
    "class Person: \n",
    "    def __init__(self, name, birth_year):\n",
    "        self.name = name\n",
    "        self.birth_year = birth_year\n",
    "\n",
    "    def getAge(self): \n",
    "        return CURRENT_YEAR - self.birth_year\n",
    "    \n",
    "    def __str__(self): \n",
    "        return f\"Name: {self.name}\\nDOB: {self.getAge()}\"\n",
    "    \n",
    "class Student(Person): \n",
    "    def __init__(self,name, birth_year): \n",
    "        Person.__init__(self, name, birth_year)\n",
    "        self.knowledge = 0\n",
    "        \n",
    "    def study(self): \n",
    "        self.knowledge += 1\n",
    "\n",
    "Alice = Student(\"Alice\", 1996)\n",
    "print(Alice)\n",
    "Alice.study()\n",
    "print(Alice.knowledge)\n"
   ]
  },
  {
   "cell_type": "code",
   "execution_count": null,
   "id": "d8b6276a",
   "metadata": {},
   "outputs": [
    {
     "name": "stdout",
     "output_type": "stream",
     "text": [
      "Verity\n",
      "It Ends with us\n"
     ]
    },
    {
     "data": {
      "text/plain": [
       "2"
      ]
     },
     "execution_count": 15,
     "metadata": {},
     "output_type": "execute_result"
    }
   ],
   "source": [
    "# SINGLE INHERITANCE EXAMPLE 2\n",
    "class Book(): \n",
    "    def __init__(self,title, author): \n",
    "        self.title = title\n",
    "        self.author = author\n",
    "\n",
    "class PaperBack(Book): \n",
    "    def __init__(self, title, author, num_pages): \n",
    "        Book.__init__(self, title, author)\n",
    "        self.num_pages = num_pages\n",
    "\n",
    "class EBook(Book): \n",
    "    def __init__(self, title, author, size): \n",
    "        Book.__init__(self, title, author)\n",
    "        self.size = size\n",
    "\n",
    "class Library: \n",
    "    def __init__(self): \n",
    "        self.books = []\n",
    "\n",
    "    def addBook(self, book): \n",
    "        self.books.append(book)\n",
    "    \n",
    "    def getNumBook(self): \n",
    "        return len(self.books)\n",
    "    \n",
    "    def getBooks(self): \n",
    "        for book in self.books: \n",
    "            print(book.title)\n",
    "    \n",
    "myBook = PaperBack(\"Verity\", \"Colleen Hoover\", 336)\n",
    "myEbook= EBook(\"It Ends with us\", \"Colleen Hoover\", 5)\n",
    "\n",
    "Lib = Library()\n",
    "Lib.addBook(myBook)\n",
    "Lib.addBook(myEbook)\n",
    "Lib.getBooks()\n",
    "Lib.getNumBook()\n"
   ]
  },
  {
   "cell_type": "code",
   "execution_count": null,
   "id": "0a7cba11",
   "metadata": {},
   "outputs": [
    {
     "name": "stdout",
     "output_type": "stream",
     "text": [
      "Hello, I'm Alice and I am a Student\n"
     ]
    }
   ],
   "source": [
    "# INHERITANCE USING THE SUPER METHOD\n",
    "class Person: \n",
    "    def __init__(self, name): \n",
    "        self.name = name\n",
    "    \n",
    "    def greet(self): \n",
    "        return f\"Hello, I'm {self.name}\"\n",
    "    \n",
    "class Student(Person): \n",
    "    def greet(self): \n",
    "        return super().greet() + \" and I am a Student\" # you don't need to pass self if you call the super method\n",
    "    \n",
    "s = Student(\"Alice\")\n",
    "print(s.greet())\n"
   ]
  },
  {
   "cell_type": "code",
   "execution_count": 22,
   "id": "efae9cfb",
   "metadata": {},
   "outputs": [
    {
     "name": "stdout",
     "output_type": "stream",
     "text": [
      "Swimming\n",
      "Flying\n"
     ]
    }
   ],
   "source": [
    "# MULTIPLE INHERITANCE\n",
    "class Swimmer: \n",
    "    def swim(self): \n",
    "        print(\"Swimming\")\n",
    "\n",
    "class Flyer: \n",
    "    def fly(self): \n",
    "        print(\"Flying\")\n",
    "\n",
    "class Duck(Swimmer, Flyer): \n",
    "    pass\n",
    "\n",
    "duck = Duck()\n",
    "duck.swim()\n",
    "duck.fly()"
   ]
  }
 ],
 "metadata": {
  "kernelspec": {
   "display_name": ".cortex_engine",
   "language": "python",
   "name": "python3"
  },
  "language_info": {
   "codemirror_mode": {
    "name": "ipython",
    "version": 3
   },
   "file_extension": ".py",
   "mimetype": "text/x-python",
   "name": "python",
   "nbconvert_exporter": "python",
   "pygments_lexer": "ipython3",
   "version": "3.13.2"
  }
 },
 "nbformat": 4,
 "nbformat_minor": 5
}
