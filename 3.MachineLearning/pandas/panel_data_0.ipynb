{
 "cells": [
  {
   "cell_type": "code",
   "execution_count": 2,
   "id": "25c35813",
   "metadata": {},
   "outputs": [],
   "source": [
    "import pandas as pd\n",
    "import numpy as np"
   ]
  },
  {
   "cell_type": "code",
   "execution_count": 3,
   "id": "6532c927",
   "metadata": {},
   "outputs": [
    {
     "name": "stdout",
     "output_type": "stream",
     "text": [
      "0     1\n",
      "1     2\n",
      "2     3\n",
      "3     4\n",
      "4     5\n",
      "5     6\n",
      "6     7\n",
      "7     8\n",
      "8     9\n",
      "9    10\n",
      "dtype: int8\n"
     ]
    }
   ],
   "source": [
    "# Series = 1d array like object which holds data with any data type\n",
    "# It acts as a column\n",
    "\n",
    "data = [x for x in range(1,11)]\n",
    "series = pd.Series(data, dtype='int8')\n",
    "print(series)"
   ]
  },
  {
   "cell_type": "code",
   "execution_count": 4,
   "id": "4ea8bd11",
   "metadata": {},
   "outputs": [
    {
     "name": "stdout",
     "output_type": "stream",
     "text": [
      "a    1\n",
      "b    3\n",
      "c    3\n",
      "dtype: int8\n"
     ]
    }
   ],
   "source": [
    "# create a series from dict elements\n",
    "\n",
    "data = {'a':1, 'b':3, 'c':3}\n",
    "series = pd.Series(data, dtype='int8')\n",
    "print(series)"
   ]
  },
  {
   "cell_type": "code",
   "execution_count": 5,
   "id": "39e4afa4",
   "metadata": {},
   "outputs": [
    {
     "name": "stdout",
     "output_type": "stream",
     "text": [
      "a     10\n",
      "b     20\n",
      "c     30\n",
      "d     40\n",
      "e     50\n",
      "f     60\n",
      "g     70\n",
      "h     80\n",
      "i     90\n",
      "j    100\n",
      "dtype: int8\n"
     ]
    }
   ],
   "source": [
    "data = [x for x in range(10, 110, 10)]\n",
    "index = ['a', 'b', 'c', 'd', 'e', 'f', 'g', 'h', 'i', 'j']\n",
    "series = pd.Series(data, dtype='int8', index=index)\n",
    "print(series)"
   ]
  },
  {
   "cell_type": "code",
   "execution_count": 6,
   "id": "185872c1",
   "metadata": {},
   "outputs": [
    {
     "name": "stdout",
     "output_type": "stream",
     "text": [
      "      Name  Age city\n",
      "0   Deepak   19  BlR\n",
      "1    Bhanu   20  BLR\n",
      "2  Deepika    3  BLR\n",
      "<class 'pandas.core.frame.DataFrame'>\n"
     ]
    }
   ],
   "source": [
    "## DataFrame - two D array, similar to a database\n",
    "\n",
    "## create a df from dict of list\n",
    "\n",
    "data = {\n",
    "    'Name': [\"Deepak\", \"Bhanu\", \"Deepika\"],\n",
    "    'Age': [19, 20, 3], \n",
    "    'city': ['BlR', 'BLR', 'BLR']\n",
    "}\n",
    "\n",
    "df = pd.DataFrame(data)\n",
    "print(df)\n",
    "\n",
    "print(type(df))"
   ]
  },
  {
   "cell_type": "code",
   "execution_count": 7,
   "id": "aa9f2ce4",
   "metadata": {},
   "outputs": [
    {
     "name": "stdout",
     "output_type": "stream",
     "text": [
      "[['Deepak' 19 'BlR']\n",
      " ['Bhanu' 20 'BLR']\n",
      " ['Deepika' 3 'BLR']]\n"
     ]
    }
   ],
   "source": [
    "# convert the dataframe into an array\n",
    "\n",
    "array = np.array(df)\n",
    "print(array)"
   ]
  },
  {
   "cell_type": "code",
   "execution_count": 8,
   "id": "7b17294e",
   "metadata": {},
   "outputs": [
    {
     "name": "stdout",
     "output_type": "stream",
     "text": [
      "     Name  Age City\n",
      "0  Deepak   19  BLR\n",
      "1   Bhanu   20  BLR\n",
      "2   Bhanu    3  BLR\n"
     ]
    }
   ],
   "source": [
    "# Create a df from a list of dicts\n",
    "\n",
    "data = [\n",
    "    {'Name': 'Deepak', 'Age' : 19, 'City': 'BLR'},\n",
    "    {'Name': 'Bhanu', 'Age' : 20, 'City': 'BLR'},\n",
    "    {'Name': 'Bhanu', 'Age' : 3, 'City': 'BLR'},\n",
    "]\n",
    "\n",
    "df = pd.DataFrame(data)\n",
    "print(df)\n"
   ]
  },
  {
   "cell_type": "code",
   "execution_count": null,
   "id": "a199ca32",
   "metadata": {},
   "outputs": [
    {
     "data": {
      "text/html": [
       "<div>\n",
       "<style scoped>\n",
       "    .dataframe tbody tr th:only-of-type {\n",
       "        vertical-align: middle;\n",
       "    }\n",
       "\n",
       "    .dataframe tbody tr th {\n",
       "        vertical-align: top;\n",
       "    }\n",
       "\n",
       "    .dataframe thead th {\n",
       "        text-align: right;\n",
       "    }\n",
       "</style>\n",
       "<table border=\"1\" class=\"dataframe\">\n",
       "  <thead>\n",
       "    <tr style=\"text-align: right;\">\n",
       "      <th></th>\n",
       "      <th>Order ID</th>\n",
       "      <th>Amount</th>\n",
       "      <th>Profit</th>\n",
       "      <th>Quantity</th>\n",
       "      <th>Category</th>\n",
       "      <th>Sub-Category</th>\n",
       "      <th>PaymentMode</th>\n",
       "    </tr>\n",
       "  </thead>\n",
       "  <tbody>\n",
       "    <tr>\n",
       "      <th>0</th>\n",
       "      <td>B-25681</td>\n",
       "      <td>1096</td>\n",
       "      <td>658</td>\n",
       "      <td>7</td>\n",
       "      <td>Electronics</td>\n",
       "      <td>Electronic Games</td>\n",
       "      <td>COD</td>\n",
       "    </tr>\n",
       "    <tr>\n",
       "      <th>1</th>\n",
       "      <td>B-26055</td>\n",
       "      <td>5729</td>\n",
       "      <td>64</td>\n",
       "      <td>14</td>\n",
       "      <td>Furniture</td>\n",
       "      <td>Chairs</td>\n",
       "      <td>EMI</td>\n",
       "    </tr>\n",
       "    <tr>\n",
       "      <th>2</th>\n",
       "      <td>B-25955</td>\n",
       "      <td>2927</td>\n",
       "      <td>146</td>\n",
       "      <td>8</td>\n",
       "      <td>Furniture</td>\n",
       "      <td>Bookcases</td>\n",
       "      <td>EMI</td>\n",
       "    </tr>\n",
       "    <tr>\n",
       "      <th>3</th>\n",
       "      <td>B-26093</td>\n",
       "      <td>2847</td>\n",
       "      <td>712</td>\n",
       "      <td>8</td>\n",
       "      <td>Electronics</td>\n",
       "      <td>Printers</td>\n",
       "      <td>Credit Card</td>\n",
       "    </tr>\n",
       "    <tr>\n",
       "      <th>4</th>\n",
       "      <td>B-25602</td>\n",
       "      <td>2617</td>\n",
       "      <td>1151</td>\n",
       "      <td>4</td>\n",
       "      <td>Electronics</td>\n",
       "      <td>Phones</td>\n",
       "      <td>Credit Card</td>\n",
       "    </tr>\n",
       "  </tbody>\n",
       "</table>\n",
       "</div>"
      ],
      "text/plain": [
       "  Order ID  Amount  Profit  Quantity     Category      Sub-Category  \\\n",
       "0  B-25681    1096     658         7  Electronics  Electronic Games   \n",
       "1  B-26055    5729      64        14    Furniture            Chairs   \n",
       "2  B-25955    2927     146         8    Furniture         Bookcases   \n",
       "3  B-26093    2847     712         8  Electronics          Printers   \n",
       "4  B-25602    2617    1151         4  Electronics            Phones   \n",
       "\n",
       "   PaymentMode  \n",
       "0          COD  \n",
       "1          EMI  \n",
       "2          EMI  \n",
       "3  Credit Card  \n",
       "4  Credit Card  "
      ]
     },
     "execution_count": 10,
     "metadata": {},
     "output_type": "execute_result"
    }
   ],
   "source": [
    "sales = pd.read_csv('datasets/Details.csv')\n",
    "sales.head()"
   ]
  },
  {
   "cell_type": "code",
   "execution_count": 11,
   "id": "17b1ee0f",
   "metadata": {},
   "outputs": [
    {
     "data": {
      "text/html": [
       "<div>\n",
       "<style scoped>\n",
       "    .dataframe tbody tr th:only-of-type {\n",
       "        vertical-align: middle;\n",
       "    }\n",
       "\n",
       "    .dataframe tbody tr th {\n",
       "        vertical-align: top;\n",
       "    }\n",
       "\n",
       "    .dataframe thead th {\n",
       "        text-align: right;\n",
       "    }\n",
       "</style>\n",
       "<table border=\"1\" class=\"dataframe\">\n",
       "  <thead>\n",
       "    <tr style=\"text-align: right;\">\n",
       "      <th></th>\n",
       "      <th>Order ID</th>\n",
       "      <th>Amount</th>\n",
       "      <th>Profit</th>\n",
       "      <th>Quantity</th>\n",
       "      <th>Category</th>\n",
       "      <th>Sub-Category</th>\n",
       "      <th>PaymentMode</th>\n",
       "    </tr>\n",
       "  </thead>\n",
       "  <tbody>\n",
       "    <tr>\n",
       "      <th>1495</th>\n",
       "      <td>B-25700</td>\n",
       "      <td>7</td>\n",
       "      <td>-3</td>\n",
       "      <td>2</td>\n",
       "      <td>Clothing</td>\n",
       "      <td>Hankerchief</td>\n",
       "      <td>COD</td>\n",
       "    </tr>\n",
       "    <tr>\n",
       "      <th>1496</th>\n",
       "      <td>B-25757</td>\n",
       "      <td>3151</td>\n",
       "      <td>-35</td>\n",
       "      <td>7</td>\n",
       "      <td>Clothing</td>\n",
       "      <td>Trousers</td>\n",
       "      <td>EMI</td>\n",
       "    </tr>\n",
       "    <tr>\n",
       "      <th>1497</th>\n",
       "      <td>B-25973</td>\n",
       "      <td>4141</td>\n",
       "      <td>1698</td>\n",
       "      <td>13</td>\n",
       "      <td>Electronics</td>\n",
       "      <td>Printers</td>\n",
       "      <td>COD</td>\n",
       "    </tr>\n",
       "    <tr>\n",
       "      <th>1498</th>\n",
       "      <td>B-25698</td>\n",
       "      <td>7</td>\n",
       "      <td>-2</td>\n",
       "      <td>1</td>\n",
       "      <td>Clothing</td>\n",
       "      <td>Hankerchief</td>\n",
       "      <td>COD</td>\n",
       "    </tr>\n",
       "    <tr>\n",
       "      <th>1499</th>\n",
       "      <td>B-25993</td>\n",
       "      <td>4363</td>\n",
       "      <td>305</td>\n",
       "      <td>5</td>\n",
       "      <td>Furniture</td>\n",
       "      <td>Tables</td>\n",
       "      <td>EMI</td>\n",
       "    </tr>\n",
       "  </tbody>\n",
       "</table>\n",
       "</div>"
      ],
      "text/plain": [
       "     Order ID  Amount  Profit  Quantity     Category Sub-Category PaymentMode\n",
       "1495  B-25700       7      -3         2     Clothing  Hankerchief         COD\n",
       "1496  B-25757    3151     -35         7     Clothing     Trousers         EMI\n",
       "1497  B-25973    4141    1698        13  Electronics     Printers         COD\n",
       "1498  B-25698       7      -2         1     Clothing  Hankerchief         COD\n",
       "1499  B-25993    4363     305         5    Furniture       Tables         EMI"
      ]
     },
     "execution_count": 11,
     "metadata": {},
     "output_type": "execute_result"
    }
   ],
   "source": [
    "sales.tail()"
   ]
  },
  {
   "cell_type": "code",
   "execution_count": 13,
   "id": "8b13131e",
   "metadata": {},
   "outputs": [
    {
     "data": {
      "text/plain": [
       "0       Electronics\n",
       "1         Furniture\n",
       "2         Furniture\n",
       "3       Electronics\n",
       "4       Electronics\n",
       "           ...     \n",
       "1495       Clothing\n",
       "1496       Clothing\n",
       "1497    Electronics\n",
       "1498       Clothing\n",
       "1499      Furniture\n",
       "Name: Category, Length: 1500, dtype: object"
      ]
     },
     "execution_count": 13,
     "metadata": {},
     "output_type": "execute_result"
    }
   ],
   "source": [
    "## Accessing data from data frame\n",
    "sales['Category']"
   ]
  },
  {
   "cell_type": "code",
   "execution_count": 17,
   "id": "ffdd65b7",
   "metadata": {},
   "outputs": [
    {
     "name": "stderr",
     "output_type": "stream",
     "text": [
      "/var/folders/h6/2zxlvljx3vb0hvfr9zhz6trh0000gn/T/ipykernel_28880/3186349356.py:3: FutureWarning: Series.__getitem__ treating keys as positions is deprecated. In a future version, integer keys will always be treated as labels (consistent with DataFrame behavior). To access a value by position, use `ser.iloc[pos]`\n",
      "  sales.iloc[0][5]\n"
     ]
    },
    {
     "data": {
      "text/plain": [
       "'Electronic Games'"
      ]
     },
     "execution_count": 17,
     "metadata": {},
     "output_type": "execute_result"
    }
   ],
   "source": [
    "# use loc \n",
    "sales.loc[0]\n",
    "sales.iloc[0][5]"
   ]
  },
  {
   "cell_type": "code",
   "execution_count": 21,
   "id": "85bd9f36",
   "metadata": {},
   "outputs": [
    {
     "data": {
      "text/plain": [
       "'COD'"
      ]
     },
     "execution_count": 21,
     "metadata": {},
     "output_type": "execute_result"
    }
   ],
   "source": [
    "## Accessing a specified element\n",
    "sales.at[0, 'PaymentMode']"
   ]
  },
  {
   "cell_type": "code",
   "execution_count": 22,
   "id": "3b857583",
   "metadata": {},
   "outputs": [
    {
     "data": {
      "text/plain": [
       "'Bookcases'"
      ]
     },
     "execution_count": 22,
     "metadata": {},
     "output_type": "execute_result"
    }
   ],
   "source": [
    "## Accessing a specified element using iat\n",
    "sales.iat[2,5]"
   ]
  },
  {
   "cell_type": "code",
   "execution_count": 39,
   "id": "4bf07c95",
   "metadata": {},
   "outputs": [
    {
     "data": {
      "text/html": [
       "<div>\n",
       "<style scoped>\n",
       "    .dataframe tbody tr th:only-of-type {\n",
       "        vertical-align: middle;\n",
       "    }\n",
       "\n",
       "    .dataframe tbody tr th {\n",
       "        vertical-align: top;\n",
       "    }\n",
       "\n",
       "    .dataframe thead th {\n",
       "        text-align: right;\n",
       "    }\n",
       "</style>\n",
       "<table border=\"1\" class=\"dataframe\">\n",
       "  <thead>\n",
       "    <tr style=\"text-align: right;\">\n",
       "      <th></th>\n",
       "      <th>Name</th>\n",
       "      <th>Age</th>\n",
       "      <th>cuteness</th>\n",
       "    </tr>\n",
       "  </thead>\n",
       "  <tbody>\n",
       "    <tr>\n",
       "      <th>0</th>\n",
       "      <td>Deepak</td>\n",
       "      <td>19</td>\n",
       "      <td>Most</td>\n",
       "    </tr>\n",
       "    <tr>\n",
       "      <th>1</th>\n",
       "      <td>Bhanu</td>\n",
       "      <td>20</td>\n",
       "      <td>Chubby</td>\n",
       "    </tr>\n",
       "    <tr>\n",
       "      <th>2</th>\n",
       "      <td>Bhanu</td>\n",
       "      <td>3</td>\n",
       "      <td>Extreme</td>\n",
       "    </tr>\n",
       "  </tbody>\n",
       "</table>\n",
       "</div>"
      ],
      "text/plain": [
       "     Name  Age cuteness\n",
       "0  Deepak   19     Most\n",
       "1   Bhanu   20   Chubby\n",
       "2   Bhanu    3  Extreme"
      ]
     },
     "execution_count": 39,
     "metadata": {},
     "output_type": "execute_result"
    }
   ],
   "source": [
    "# data manipulation\n",
    "\n",
    "df"
   ]
  },
  {
   "cell_type": "code",
   "execution_count": 43,
   "id": "8208b13a",
   "metadata": {},
   "outputs": [
    {
     "data": {
      "text/html": [
       "<div>\n",
       "<style scoped>\n",
       "    .dataframe tbody tr th:only-of-type {\n",
       "        vertical-align: middle;\n",
       "    }\n",
       "\n",
       "    .dataframe tbody tr th {\n",
       "        vertical-align: top;\n",
       "    }\n",
       "\n",
       "    .dataframe thead th {\n",
       "        text-align: right;\n",
       "    }\n",
       "</style>\n",
       "<table border=\"1\" class=\"dataframe\">\n",
       "  <thead>\n",
       "    <tr style=\"text-align: right;\">\n",
       "      <th></th>\n",
       "      <th>Name</th>\n",
       "      <th>Age</th>\n",
       "      <th>cuteness</th>\n",
       "      <th>city</th>\n",
       "    </tr>\n",
       "  </thead>\n",
       "  <tbody>\n",
       "    <tr>\n",
       "      <th>0</th>\n",
       "      <td>Deepak</td>\n",
       "      <td>19</td>\n",
       "      <td>Most</td>\n",
       "      <td>blr</td>\n",
       "    </tr>\n",
       "    <tr>\n",
       "      <th>1</th>\n",
       "      <td>Bhanu</td>\n",
       "      <td>20</td>\n",
       "      <td>Chubby</td>\n",
       "      <td>blr</td>\n",
       "    </tr>\n",
       "    <tr>\n",
       "      <th>2</th>\n",
       "      <td>Bhanu</td>\n",
       "      <td>3</td>\n",
       "      <td>Extreme</td>\n",
       "      <td>blr</td>\n",
       "    </tr>\n",
       "  </tbody>\n",
       "</table>\n",
       "</div>"
      ],
      "text/plain": [
       "     Name  Age cuteness city\n",
       "0  Deepak   19     Most  blr\n",
       "1   Bhanu   20   Chubby  blr\n",
       "2   Bhanu    3  Extreme  blr"
      ]
     },
     "execution_count": 43,
     "metadata": {},
     "output_type": "execute_result"
    }
   ],
   "source": [
    "df['cuteness'] = ['Most', 'Chubby', 'Extreme']\n",
    "df['city'] = ['blr', 'blr', 'blr']\n",
    "df"
   ]
  },
  {
   "cell_type": "code",
   "execution_count": null,
   "id": "7ff15389",
   "metadata": {},
   "outputs": [
    {
     "data": {
      "text/html": [
       "<div>\n",
       "<style scoped>\n",
       "    .dataframe tbody tr th:only-of-type {\n",
       "        vertical-align: middle;\n",
       "    }\n",
       "\n",
       "    .dataframe tbody tr th {\n",
       "        vertical-align: top;\n",
       "    }\n",
       "\n",
       "    .dataframe thead th {\n",
       "        text-align: right;\n",
       "    }\n",
       "</style>\n",
       "<table border=\"1\" class=\"dataframe\">\n",
       "  <thead>\n",
       "    <tr style=\"text-align: right;\">\n",
       "      <th></th>\n",
       "      <th>Name</th>\n",
       "      <th>Age</th>\n",
       "      <th>cuteness</th>\n",
       "    </tr>\n",
       "  </thead>\n",
       "  <tbody>\n",
       "    <tr>\n",
       "      <th>0</th>\n",
       "      <td>Deepak</td>\n",
       "      <td>19</td>\n",
       "      <td>Most</td>\n",
       "    </tr>\n",
       "    <tr>\n",
       "      <th>1</th>\n",
       "      <td>Bhanu</td>\n",
       "      <td>20</td>\n",
       "      <td>Chubby</td>\n",
       "    </tr>\n",
       "    <tr>\n",
       "      <th>2</th>\n",
       "      <td>Bhanu</td>\n",
       "      <td>3</td>\n",
       "      <td>Extreme</td>\n",
       "    </tr>\n",
       "  </tbody>\n",
       "</table>\n",
       "</div>"
      ],
      "text/plain": [
       "     Name  Age cuteness\n",
       "0  Deepak   19     Most\n",
       "1   Bhanu   20   Chubby\n",
       "2   Bhanu    3  Extreme"
      ]
     },
     "execution_count": 44,
     "metadata": {},
     "output_type": "execute_result"
    }
   ],
   "source": [
    "# delete a column\n",
    "# df.drop('City', axis=1) #view only, does not actually delete the column in the df\n",
    "\n",
    "# pass the parameter inplace=True\n",
    "df.drop('city', axis=1, inplace=True)\n",
    "df\n",
    "\n",
    "# you can drop a row too\n",
    "df.drop(0, axis=0)"
   ]
  },
  {
   "cell_type": "code",
   "execution_count": null,
   "id": "6c1081b2",
   "metadata": {},
   "outputs": [
    {
     "data": {
      "text/html": [
       "<div>\n",
       "<style scoped>\n",
       "    .dataframe tbody tr th:only-of-type {\n",
       "        vertical-align: middle;\n",
       "    }\n",
       "\n",
       "    .dataframe tbody tr th {\n",
       "        vertical-align: top;\n",
       "    }\n",
       "\n",
       "    .dataframe thead th {\n",
       "        text-align: right;\n",
       "    }\n",
       "</style>\n",
       "<table border=\"1\" class=\"dataframe\">\n",
       "  <thead>\n",
       "    <tr style=\"text-align: right;\">\n",
       "      <th></th>\n",
       "      <th>Name</th>\n",
       "      <th>Age</th>\n",
       "      <th>cuteness</th>\n",
       "    </tr>\n",
       "  </thead>\n",
       "  <tbody>\n",
       "    <tr>\n",
       "      <th>1</th>\n",
       "      <td>Bhanu</td>\n",
       "      <td>21</td>\n",
       "      <td>Chubby</td>\n",
       "    </tr>\n",
       "    <tr>\n",
       "      <th>2</th>\n",
       "      <td>Bhanu</td>\n",
       "      <td>4</td>\n",
       "      <td>Extreme</td>\n",
       "    </tr>\n",
       "  </tbody>\n",
       "</table>\n",
       "</div>"
      ],
      "text/plain": [
       "    Name  Age cuteness\n",
       "1  Bhanu   21   Chubby\n",
       "2  Bhanu    4  Extreme"
      ]
     },
     "execution_count": 47,
     "metadata": {},
     "output_type": "execute_result"
    }
   ],
   "source": [
    "# you can drop a row too\n",
    "df.drop(0, axis=0) # pass inplace=True to actuall delete it from the table"
   ]
  },
  {
   "cell_type": "code",
   "execution_count": 45,
   "id": "6ee175f2",
   "metadata": {},
   "outputs": [
    {
     "data": {
      "text/html": [
       "<div>\n",
       "<style scoped>\n",
       "    .dataframe tbody tr th:only-of-type {\n",
       "        vertical-align: middle;\n",
       "    }\n",
       "\n",
       "    .dataframe tbody tr th {\n",
       "        vertical-align: top;\n",
       "    }\n",
       "\n",
       "    .dataframe thead th {\n",
       "        text-align: right;\n",
       "    }\n",
       "</style>\n",
       "<table border=\"1\" class=\"dataframe\">\n",
       "  <thead>\n",
       "    <tr style=\"text-align: right;\">\n",
       "      <th></th>\n",
       "      <th>Name</th>\n",
       "      <th>Age</th>\n",
       "      <th>cuteness</th>\n",
       "    </tr>\n",
       "  </thead>\n",
       "  <tbody>\n",
       "    <tr>\n",
       "      <th>0</th>\n",
       "      <td>Deepak</td>\n",
       "      <td>20</td>\n",
       "      <td>Most</td>\n",
       "    </tr>\n",
       "    <tr>\n",
       "      <th>1</th>\n",
       "      <td>Bhanu</td>\n",
       "      <td>21</td>\n",
       "      <td>Chubby</td>\n",
       "    </tr>\n",
       "    <tr>\n",
       "      <th>2</th>\n",
       "      <td>Bhanu</td>\n",
       "      <td>4</td>\n",
       "      <td>Extreme</td>\n",
       "    </tr>\n",
       "  </tbody>\n",
       "</table>\n",
       "</div>"
      ],
      "text/plain": [
       "     Name  Age cuteness\n",
       "0  Deepak   20     Most\n",
       "1   Bhanu   21   Chubby\n",
       "2   Bhanu    4  Extreme"
      ]
     },
     "execution_count": 45,
     "metadata": {},
     "output_type": "execute_result"
    }
   ],
   "source": [
    "df['Age'] = df['Age'] + 1\n",
    "df"
   ]
  },
  {
   "cell_type": "code",
   "execution_count": 48,
   "id": "9dcc1550",
   "metadata": {},
   "outputs": [
    {
     "name": "stdout",
     "output_type": "stream",
     "text": [
      "<class 'pandas.core.frame.DataFrame'>\n",
      "RangeIndex: 1500 entries, 0 to 1499\n",
      "Data columns (total 7 columns):\n",
      " #   Column        Non-Null Count  Dtype \n",
      "---  ------        --------------  ----- \n",
      " 0   Order ID      1500 non-null   object\n",
      " 1   Amount        1500 non-null   int64 \n",
      " 2   Profit        1500 non-null   int64 \n",
      " 3   Quantity      1500 non-null   int64 \n",
      " 4   Category      1500 non-null   object\n",
      " 5   Sub-Category  1500 non-null   object\n",
      " 6   PaymentMode   1500 non-null   object\n",
      "dtypes: int64(3), object(4)\n",
      "memory usage: 82.2+ KB\n"
     ]
    }
   ],
   "source": [
    "sales.info()"
   ]
  },
  {
   "cell_type": "code",
   "execution_count": 55,
   "id": "2b100d19",
   "metadata": {},
   "outputs": [
    {
     "name": "stdout",
     "output_type": "stream",
     "text": [
      "[658, 64, 146, 712, 1151, 247, -275, -213, -44, -54, -190, -234, -891, -492, 1050, -3, 433, 1, 721, -1, -624, 95, 254, -33, 2, 782, 370, -266, -56, -1, 202, 113, 1303, -15, 122, -212, -1, 802, 0, -7, 564, 3, -77, 5, 980, -448, 340, 460, 0, -439, 106, -123, 239, 199, -2, 624, 206, -5, 4, 1864, 147, 2, -193, 527, 342, 7, 2, -12, 536, -38, 573, -16, -2, 65, 97, 264, -13, 73, -68, -2, -2, -916, -93, 3, 192, -72, 67, 24, 16, -274, 230, -640, 486, -18, -13, -63, -706, 170, -1, 170, -1, -36, 101, 266, -48, -14, 8, -307, 199, 119, 0, 8, -225, 198, -40, -36, -2, 0, 267, -235, -1, -48, -209, -17, 248, 166, -9, 395, 303, 1, 56, -15, -100, -12, 254, 1, 1, 1, 10, 259, -187, -309, -213, 15, -2, 167, 225, -316, 316, 208, -28, 119, 292, 51, 89, 175, 262, 84, 19, 212, -424, 8, 2, -111, 371, -73, -82, -152, 9, 371, 198, 107, 91, 3, 204, 9, 392, 116, 84, 213, 12, 11, 12, -79, 29, -11, 151, 8, 3, 0, 114, 11, -31, 0, 8, 0, 11, 3, 50, 11, 11, 11, 42, 50, 11, -459, 547, 0, 11, -41, 77, 2, -90, -35, -37, 148, 53, -45, 11, -50, -36, 161, 8, -272, 4, 357, 70, 49, 48, -77, 199, -45, 50, -25, 12, 1, -314, 2, 8, 13, 412, -23, -5, 27, -124, 1, 86, 126, 66, 2, 118, -56, 14, 111, 93, -116, 212, 3, -22, 6, -192, 151, -16, -5, 234, 68, 13, -13, 88, 144, 143, 84, -29, 107, -100, -338, -47, 199, -23, 10, 108, -103, -8, 41, 57, 71, 4, 50, 7, -15, 114, 6, 32, -6, -33, -12, 36, -312, 25, 62, 72, 5, -5, -200, 26, 0, 17, 113, 74, 7, 225, 17, 93, -39, 119, -66, 15, 61, 128, 3, -7, -87, 91, 5, 2, -26, 16, 19, -63, 97, 7, 68, 19, 13, 30, 251, 0, -43, 29, -26, -55, 23, 27, -32, 3, 76, 14, -2, -3, 119, 100, -15, 61, 25, 98, 99, -78, 30, 0, 1, -28, -122, 83, 4, 180, 14, -31, -20, -114, 8, -14, -77, 15, -10, 6, 24, -28, -30, 18, -162, 6, 20, 16, 22, 24, -10, -2, 8, -345, 0, -85, 12, 7, 20, 48, 81, -38, -143, -33, 21, 87, 27, 39, 18, 62, 2, 6, -113, 4, 21, -27, 0, -48, 102, -8, -41, 40, 74, 109, -83, -42, 20, 14, 50, -30, 8, -33, -30, 4, 21, 3, 62, 62, 24, -31, 45, 52, 2, -63, -28, 27, -21, 6, 111, 2, -12, -86, -25, 2, -206, 8, -24, 64, 276, -46, -18, 6, 9, 19, -16, 0, -7, 13, -117, -146, 87, 2, 13, -25, 47, -15, 11, -26, 8, 9, -70, 61, -25, -28, -13, -62, 37, 11, 20, 99, 8, 77, 4, -70, 69, 2, -25, 32, 10, 17, -46, -51, 30, -59, 17, 63, -24, -25, 20, 0, 35, -9, -23, -135, -21, -55, 33, 46, 11, 73, -22, 55, -23, 0, 7, 2, -229, 19, -105, 5, -22, 40, 4, -50, 39, 153, 0, 12, 0, 23, 54, 15, 51, 7, -1, 22, 23, 50, -21, 48, -87, 20, -54, -15, 32, 12, -1, 22, 12, 0, 41, 34, 17, 46, 24, -17, -40, 0, 0, 22, 16, -275, 0, -14, 59, 19, 14, 44, 68, -56, 48, 12, 8, 19, -193, 29, 19, 32, -1, 12, -58, -48, 6, 14, 14, 14, 36, 30, 21, -14, -3, 13, 12, 22, 5, -12, -34, 42, -56, -84, -21, 54, -10, -79, -65, 5, 12, -154, 29, 4, 241, 47, 48, 10, 29, 36, 0, -8, 54, 17, 11, -66, 30, -11, 59, 19, 1, 23, -11, 17, 9, -6, 54, -5, -103, 16, -4, 68, 14, -39, 7, 8, 14, -140, 12, 25, -9, 47, -111, -7, 41, 9, -8, 35, 15, 27, -6, -6, 40, 22, 50, -8, 17, 46, 20, -6, -33, 25, -7, 2, 5, -7, -6, 12, 36, -6, 33, -6, -90, 11, -8, 18, -6, 18, 5, 2, 69, 0, 16, 37, 36, -19, -54, -58, 26, 6, -23, 17, 26, 9, 29, -68, 9, -62, 35, 17, 15, 20, -5, 12, 11, 14, 0, 27, 25, 15, 23, 15, 24, 2, 9, 11, 42, 14, -10, -10, 8, 0, 29, 1, 1, 36, 54, -5, 73, 35, 56, 27, 1, -89, 66, -37, 11, 41, 20, -83, 4, 15, 10, 8, -32, -55, 22, -3, -124, 22, 9, -9, -75, -42, -81, 6, 123, 122, 61, -3, 10, 15, 0, 49, 12, 13, 56, 19, 38, -41, 57, 30, 11, -124, 41, 16, 20, 6, 36, -13, 5, 20, -42, 27, 7, -92, -50, 19, 29, -25, -63, -31, 22, 46, 7, -41, 41, 21, -7, 72, 0, -13, 25, -7, -104, -49, 15, 15, 16, 0, -14, -85, 13, 19, -3, -47, 26, 5, -86, -42, -101, 38, -5, -17, -15, -4, -43, 56, -5, 25, 22, -29, 69, -52, -59, 20, 1, 27, -113, 43, 17, 14, 0, 28, 6, -18, 18, 24, 55, -8, -8, -56, 21, 6, 1, 11, -63, -3, 28, -50, 26, 1, 38, 18, -23, 14, -49, -11, 26, 86, -3, 37, 41, 15, -14, -10, 21, -11, 0, 12, 13, 5, -10, 25, 73, 10, -21, -26, 46, 17, 13, 12, 10, 60, -52, 3, -8, 20, -166, 0, 89, 17, -28, -94, -12, -12, 17, 24, 14, 17, 22, 27, -17, 44, -65, 5, 27, 7, 21, 4, -4, 26, -119, 51, 18, 0, 16, 58, 8, 36, 4, -33, -1, 56, 73, -3, 28, -19, 29, 4, 12, 5, -60, 5, -145, 4, -19, 32, 84, 31, 35, 6, 35, 18, 102, -39, 33, 6, 6, 27, 41, -21, 33, 8, 59, 38, 105, 6, -11, -252, 33, 35, 30, 7, 32, 12, 6, -3, 5, -27, 8, -27, 36, 15, 1, 38, 215, -39, 39, 18, 37, 41, -49, -81, 37, 14, 8, -17, -31, 7, -3, 24, -41, 14, 40, -63, -41, -17, 5, 47, -30, 3, -24, -51, 71, 11, 15, -78, 42, 10, 91, 3, 33, 22, 44, 44, -26, -8, 16, -114, 28, 1, -2, -64, -3, 48, 36, 47, 0, 0, 0, 13, 13, -14, 52, 29, 13, 9, 11, 50, -51, 39, 14, 0, 6, 16, -36, 12, -6, -44, -2, 140, 138, 4, -2, 75, 28, 2, -270, -147, -64, 11, 14, 312, -280, 10, -180, -31, -10, 5, -27, 144, 2, -12, 26, -5, -39, 17, 21, 50, 42, 44, 0, -15, 160, 11, 13, 28, 7, -3, -13, 52, 58, -1, -25, 74, -154, -34, 38, 0, 74, 32, 59, 30, 12, -26, 25, 11, 13, 21, 27, 6, 10, -24, -22, 16, 17, -7, 74, -26, 18, -18, 7, -37, 14, -4, 139, 18, 9, 10, 4, -94, 15, 24, 115, 33, 62, -4, 90, 137, -17, 127, -7, -10, 73, 208, 26, 31, -56, 16, -143, 3, 59, 33, 46, -13, 63, 12, 56, 3, -67, -83, -43, 21, 146, -22, -12, 28, -27, 8, 55, 74, 13, 14, 1, 10, -23, 179, 203, -25, 183, 56, 28, 17, -8, 136, -34, 10, 9, 31, 6, -12, 3, 6, 77, 10, 68, 137, 0, -6, 63, -44, -33, 18, 0, 9, -113, -10, -3, 15, -25, 6, 0, 5, -146, -128, 81, 85, 54, 11, 0, -18, 85, -43, 131, -5, -10, -13, 194, -53, 215, 69, -19, -10, 52, -174, 26, 44, 108, 2, 3, -3, 14, 139, -24, 213, 72, 90, 92, 93, 97, 90, -10, 12, -102, 113, -69, 37, 4, -444, 6, -1, -20, 5, 4, -349, 166, -204, 9, -6, 212, 110, -25, -114, -45, 13, -27, 2, -633, 9, 93, 80, 261, 15, 7, 195, 12, -24, 7, -30, -12, -2, 169, 107, -6, 5, 240, -23, 9, 1, -3, 2, -26, 5, -15, 11, -6, 193, -103, -3, 3, -56, 169, 203, 4, 43, -447, 253, 10, -2, -8, 31, -153, 8, -5, 8, 89, -15, 594, -2, 2, 43, 52, -66, 4, 180, -353, 323, -17, -6, 187, -96, 2, 120, 154, 267, -5, -190, -1, 0, 93, 6, -5, -242, -91, 9, 385, 131, -18, -66, 97, -8, 11, 4, 1, 202, 2, 355, -129, 22, -447, 8, 207, -9, 114, -10, 95, -99, 305, 293, 0, -15, 6, 206, 82, 8, 8, -130, 6, 197, 1, -38, 2, 352, 2, 209, 2, 5, -3, -1, -8, -1, 1148, 1, 0, 546, -2, 3, 5, -13, -9, -56, -153, 7, 2, -12, -11, -244, 62, 1, -4, 318, 567, 109, 742, 111, -60, 2, -2, -443, 352, 315, 346, -420, 441, 5, 552, -6, -12, 3, 421, 568, -9, -7, 5, 7, -2, 680, -1, -2, 4, -6, 2, 309, 447, -6, 503, -4, -2, 701, 276, 322, 23, -289, 64, -175, 127, -1, 191, 665, -3, -1981, 1, 0, -3, -35, 1698, -2, 305]\n",
      "36963\n"
     ]
    }
   ],
   "source": [
    "sales.describe()\n",
    "\n",
    "profits = list(sales['Profit'])\n",
    "print(profits)\n",
    "print(sum(profits))\n"
   ]
  }
 ],
 "metadata": {
  "kernelspec": {
   "display_name": ".cortex_engine",
   "language": "python",
   "name": "python3"
  },
  "language_info": {
   "codemirror_mode": {
    "name": "ipython",
    "version": 3
   },
   "file_extension": ".py",
   "mimetype": "text/x-python",
   "name": "python",
   "nbconvert_exporter": "python",
   "pygments_lexer": "ipython3",
   "version": "3.13.2"
  }
 },
 "nbformat": 4,
 "nbformat_minor": 5
}
