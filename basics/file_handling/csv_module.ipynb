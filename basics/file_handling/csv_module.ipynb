{
 "cells": [
  {
   "cell_type": "code",
   "execution_count": null,
   "id": "55fe5393",
   "metadata": {},
   "outputs": [],
   "source": [
    "import csv"
   ]
  },
  {
   "cell_type": "code",
   "execution_count": null,
   "id": "569197f3",
   "metadata": {},
   "outputs": [],
   "source": [
    "file_name = \"my_data.csv\"\n",
    "# using normal file handling\n",
    "with open(file_name, 'r') as file: \n",
    "    data = file.read()\n",
    "    print(data)"
   ]
  },
  {
   "cell_type": "code",
   "execution_count": null,
   "id": "83133323",
   "metadata": {},
   "outputs": [],
   "source": [
    "# using csv module \n",
    "\n",
    "with open('my_data.csv', 'r') as file: \n",
    "    reader = csv.reader(file)\n",
    "    print(reader) # returns a csv object in memory\n",
    "\n",
    "    # skipping out the column name\n",
    "    next(reader)\n",
    "\n",
    "    # printing only the lines are column 3 (fruit names)\n",
    "    for line in reader: \n",
    "        print(line[2])"
   ]
  },
  {
   "cell_type": "code",
   "execution_count": 25,
   "id": "0cb3136b",
   "metadata": {},
   "outputs": [],
   "source": [
    "# writing to a csv file\n",
    "\n",
    "with open(file_name, 'r') as csv_file:\n",
    "    reader = csv.reader(csv_file)\n",
    "\n",
    "    with open('new_data.csv', 'w') as new_file: \n",
    "        writer = csv.writer(new_file, delimiter=\"\\t\")\n",
    "\n",
    "        for line in reader: \n",
    "            writer.writerow(line) "
   ]
  }
 ],
 "metadata": {
  "kernelspec": {
   "display_name": "cortex_engine",
   "language": "python",
   "name": "python3"
  },
  "language_info": {
   "codemirror_mode": {
    "name": "ipython",
    "version": 3
   },
   "file_extension": ".py",
   "mimetype": "text/x-python",
   "name": "python",
   "nbconvert_exporter": "python",
   "pygments_lexer": "ipython3",
   "version": "3.13.2"
  }
 },
 "nbformat": 4,
 "nbformat_minor": 5
}
