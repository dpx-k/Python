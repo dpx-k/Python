{
 "cells": [
  {
   "cell_type": "markdown",
   "id": "0c099002",
   "metadata": {},
   "source": [
    "# Generators \n",
    "\n",
    "Generators are a simpler way to create iterators. They use the yield keyword to porduce a series of values lazily, which means they generate values on the fly and do not store them in memory."
   ]
  },
  {
   "cell_type": "code",
   "execution_count": 12,
   "id": "75e17541",
   "metadata": {},
   "outputs": [],
   "source": [
    "def square(n): \n",
    "    for i in range(n):\n",
    "        yield i ** 2"
   ]
  },
  {
   "cell_type": "code",
   "execution_count": 13,
   "id": "5de13c59",
   "metadata": {},
   "outputs": [
    {
     "data": {
      "text/plain": [
       "<generator object square at 0x1071a45f0>"
      ]
     },
     "execution_count": 13,
     "metadata": {},
     "output_type": "execute_result"
    }
   ],
   "source": [
    "square(3)"
   ]
  },
  {
   "cell_type": "code",
   "execution_count": 14,
   "id": "c286ac28",
   "metadata": {},
   "outputs": [
    {
     "name": "stdout",
     "output_type": "stream",
     "text": [
      "0\n",
      "1\n",
      "4\n"
     ]
    }
   ],
   "source": [
    "for i in square(3):\n",
    "    print(i)"
   ]
  },
  {
   "cell_type": "code",
   "execution_count": 15,
   "id": "e9fb8bf1",
   "metadata": {},
   "outputs": [
    {
     "data": {
      "text/plain": [
       "<generator object my_gen at 0x107123060>"
      ]
     },
     "execution_count": 15,
     "metadata": {},
     "output_type": "execute_result"
    }
   ],
   "source": [
    "# you can use multiple yeilds in a function \n",
    "\n",
    "def my_gen():\n",
    "    yield 1\n",
    "    yield 2\n",
    "    yield 3\n",
    "\n",
    "gen = my_gen()\n",
    "gen"
   ]
  },
  {
   "cell_type": "code",
   "execution_count": 16,
   "id": "1131ff1d",
   "metadata": {},
   "outputs": [
    {
     "data": {
      "text/plain": [
       "1"
      ]
     },
     "execution_count": 16,
     "metadata": {},
     "output_type": "execute_result"
    }
   ],
   "source": [
    "next(gen)"
   ]
  },
  {
   "cell_type": "code",
   "execution_count": 17,
   "id": "1f366e56",
   "metadata": {},
   "outputs": [
    {
     "name": "stdout",
     "output_type": "stream",
     "text": [
      "Time. We measure it, chase it, save it, and spend it. It is the invisible current that carries us from birth to death,\n",
      "marking the rhythm of our days and the span of epochs. Yet, despite its omnipresence in our lives,\n",
      "time remains one of the most profound and perplexing mysteries of the universe. We live in time, but do we truly understand what it is?\n",
      "\n",
      "From the earliest civilizations charting celestial movements to modern physicists probing the quantum realm, humanity has grappled with the nature of time. Is it a fundamental dimension, like space? Is it an illusion of consciousness? Is its flow constant and universal, or is it a malleable aspect of reality, bending and stretching under the influence of gravity and speed?\n",
      "Our intuitive understanding of time is rooted in experience. We perceive time as a linear progression, flowing inexorably from a fixed past, through a fleeting present, and towards an open future. Clocks tick, seasons change, and we age – all seemingly undeniable evidence of time's steady, forward march. This Newtonian view of time as an absolute, unchanging, universal constant – \"Time absolute, true and mathematical, of itself, and from its own nature flows equably without regard to anything external,\" as Isaac Newton put it – dominated scientific thought for centuries. In this framework, time was like a vast, cosmic clock ticking identically for everyone, everywhere.\n",
      "However, the dawn of the 20th century brought about a revolutionary shift in our understanding, courtesy of Albert Einstein's theories of relativity. Special Relativity (1905) shattered the notion of absolute time by demonstrating that time is not independent of space; rather, they are interwoven into a single four-dimensional fabric called spacetime. Crucially, Einstein showed that time's passage is relative – it depends on the observer's motion. The faster you move relative to another observer, the slower time passes for you compared to them. This phenomenon, known as time dilation, is not science fiction; it is a verified consequence of the universe's architecture, essential for technologies like GPS to function accurately.\n",
      "\n",
      "General Relativity (1915) added another layer of complexity: gravity also affects time. Massive objects warp the fabric of spacetime around them, and this curvature affects the flow of time. Time runs slower in stronger gravitational fields. This means time passes fractionally slower for someone at sea level than for someone atop a mountain, and significantly slower near a black hole than far away from it. Time is not a separate river flowing independently; it is intrinsically linked to the gravitational landscape of the cosmos.\n",
      "\n",
      "These relativistic effects challenge our everyday intuition. If time's passage is relative, then the idea of a universal \"present moment\" becomes problematic. Your \"now\" is different from the \"now\" of someone moving at high speed relative to you, or someone near a massive object. This suggests that perhaps the past, present, and future are not distinct in the way we perceive them, leading to philosophical debates about the nature of reality – does the future already exist in some sense?\n",
      "\n",
      "Beyond relativity, another fundamental mystery of time is its direction – the \"Arrow of Time.\" Why does time only move forward? Why do we remember the past but not the future? While the laws of physics at the fundamental level (like those governing particle interactions) are largely time-symmetric – meaning they would work just as well if time ran backward – the universe we observe is overwhelmingly asymmetric in time. Glasses shatter but don't spontaneously reassemble; stars burn out but don't randomly gather energy to reignite; we age but don't grow younger.\n",
      "\n",
      "This unidirectional flow is strongly linked to the second law of thermodynamics, which states that the entropy (disorder) of a closed system tends to increase over time. The universe moves from states of lower probability (order) to states of higher probability (disorder). A broken glass is a higher entropy state than an intact one. Our memory, too, seems tied to processes that increase entropy in the brain. The arrow of time, in this view, emerges from the initial low-entropy state of the Big Bang and the subsequent increase in cosmic disorder.\n",
      "\n",
      "Yet, linking the microscopic, reversible laws of physics to the macroscopic, irreversible arrow of time remains a significant challenge. Is the arrow of time a fundamental property of the universe, or does it emerge from statistical probabilities on a large scale?\n",
      "\n",
      "Current research pushes the boundaries of our understanding further. At the quantum level, the concept of time becomes even hazier. Some quantum descriptions don't include time as a fundamental variable, suggesting it might be an emergent property that arises from the interactions of quantum systems. Quantum mechanics introduces concepts like superposition and entanglement, whose relationship with time is still being explored, potentially opening doors to entirely new ways of thinking about temporal relationships.\n",
      "\n",
      "And, of course, there is the perennial human fascination with time travel. While backward time travel into the past presents paradoxes (like the grandfather paradox) that seem to violate causality, forward time travel is, in fact, already possible – simply move very fast or get close to a black hole, and time will slow down for you relative to distant observers, allowing you to effectively travel into their future. Whether bending spacetime to loop back on itself is physically possible remains firmly in the realm of theoretical physics and intense debate.\n",
      "\n",
      "In conclusion, time is far from the simple, steady ticker we intuitively perceive. Einstein showed us it is interwoven with space and influenced by gravity and motion. Thermodynamics points to its unidirectional flow towards increasing entropy. Quantum mechanics hints that its fundamental nature may be different than we imagine. Time is not just a backdrop against which events occur; it is an active participant in the dynamics of the universe, a flexible, complex, and deeply mysterious dimension that continues to challenge our understanding and spark our imagination. As we continue to explore the cosmos and the fundamental laws governing it, perhaps we will edge closer to unraveling the ultimate secret of what time truly is.\n",
      "\n",
      "\n",
      "Sources and related content\n"
     ]
    }
   ],
   "source": [
    "# Opening large files using a generator\n",
    "\n",
    "def read_large_file(file_path): \n",
    "    with open(file_path, 'r') as file: \n",
    "        lines = file.readlines()\n",
    "        for line in lines: \n",
    "            yield line\n",
    "\n",
    "def print_line(): \n",
    "    for line in read_large_file('large_file.txt'): \n",
    "        print(line.strip())\n",
    "        \n",
    "print_line()"
   ]
  }
 ],
 "metadata": {
  "kernelspec": {
   "display_name": "cortex_engine",
   "language": "python",
   "name": "python3"
  },
  "language_info": {
   "codemirror_mode": {
    "name": "ipython",
    "version": 3
   },
   "file_extension": ".py",
   "mimetype": "text/x-python",
   "name": "python",
   "nbconvert_exporter": "python",
   "pygments_lexer": "ipython3",
   "version": "3.13.2"
  }
 },
 "nbformat": 4,
 "nbformat_minor": 5
}
