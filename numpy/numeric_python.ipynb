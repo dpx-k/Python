{
 "cells": [
  {
   "cell_type": "code",
   "execution_count": 1,
   "id": "e1858a41",
   "metadata": {},
   "outputs": [],
   "source": [
    "import numpy as np"
   ]
  },
  {
   "cell_type": "code",
   "execution_count": 2,
   "id": "c5d5ea69",
   "metadata": {},
   "outputs": [
    {
     "name": "stdout",
     "output_type": "stream",
     "text": [
      "[1 2 3 4 5]\n",
      "2\n",
      "[2 3 4 5]\n",
      "[1 2 3]\n",
      "[ 1 47  3  4  5]\n",
      "[10 20 30 40 50]\n",
      "int8\n"
     ]
    }
   ],
   "source": [
    "# declaring a numpy array\n",
    "\n",
    "array = np.array([1,2,3,4,5], dtype = np.int8)\n",
    "print(array)\n",
    "\n",
    "# slicing and indexing operations are similar to lists \n",
    "print(array[1])\n",
    "print(array[1:])\n",
    "print(array[:-2])\n",
    "\n",
    "array[1] = 47\n",
    "\n",
    "print(array)\n",
    "\n",
    "multiplier = 10\n",
    "for i, num in enumerate(array): \n",
    "    array[i] = multiplier\n",
    "    multiplier += 10\n",
    "\n",
    "print(array)\n",
    "\n",
    "print(array.dtype)"
   ]
  },
  {
   "cell_type": "code",
   "execution_count": 3,
   "id": "7cf14f88",
   "metadata": {},
   "outputs": [
    {
     "name": "stdout",
     "output_type": "stream",
     "text": [
      "[[1 2 3]\n",
      " [4 5 6]\n",
      " [7 8 9]]\n"
     ]
    }
   ],
   "source": [
    "# multidimensional array \n",
    "\n",
    "twod_array = np.array([[1,2,3],\n",
    "                       [4,5,6],\n",
    "                       [7,8,9]])\n",
    "\n",
    "print(twod_array)"
   ]
  },
  {
   "cell_type": "code",
   "execution_count": 4,
   "id": "bd1641d0",
   "metadata": {},
   "outputs": [
    {
     "name": "stdout",
     "output_type": "stream",
     "text": [
      "(3, 3)\n",
      "2\n",
      "9\n",
      "int64\n"
     ]
    }
   ],
   "source": [
    "# numpy attributes \n",
    "\n",
    "print(twod_array.shape) # returns in the format (rows, columns), if (breadth, width, height)\n",
    "print(twod_array.ndim) # returns the dimensions of the array \n",
    "print(twod_array.size) # returns the number of elements in the array\n",
    "print(twod_array.dtype) # returns the data type of the elements of the array"
   ]
  },
  {
   "cell_type": "code",
   "execution_count": 5,
   "id": "6c388092",
   "metadata": {},
   "outputs": [
    {
     "name": "stdout",
     "output_type": "stream",
     "text": [
      "[[['Deepak' 'Deepak' 'Deepak' 'Deepak']\n",
      "  ['Deepak' 'Deepak' 'Deepak' 'Deepak']\n",
      "  ['Deepak' 'Deepak' 'Deepak' 'Deepak']]\n",
      "\n",
      " [['Deepak' 'Deepak' 'Deepak' 'Deepak']\n",
      "  ['Deepak' 'Deepak' 'Deepak' 'Deepak']\n",
      "  ['Deepak' 'Deepak' 'Deepak' 'Deepak']]]\n",
      "<U6\n"
     ]
    }
   ],
   "source": [
    "# numpy methods\n",
    "\n",
    "# fill an array with shape and specific value using the full() method \n",
    "names = np.full((2,3,4), \"Deepak\")\n",
    "print(names)\n",
    "\n",
    "print(names.dtype)"
   ]
  },
  {
   "cell_type": "code",
   "execution_count": 6,
   "id": "5f82f629",
   "metadata": {},
   "outputs": [
    {
     "name": "stdout",
     "output_type": "stream",
     "text": [
      "[[1 1 1 1]\n",
      " [1 1 1 1]] \n",
      "\n",
      "[[0 0 0]\n",
      " [0 0 0]\n",
      " [0 0 0]]\n",
      "int8\n",
      "int8\n"
     ]
    }
   ],
   "source": [
    "# fill an array with ones or zeroes using the ones() and zeros() method \n",
    "\n",
    "ones = np.ones((2,4), dtype = np.int8) # the default is float64\n",
    "zeroes = np.zeros((3,3), dtype = np.int8)\n",
    "\n",
    "print(ones, '\\n')\n",
    "print(zeroes)\n",
    "\n",
    "print(ones.dtype)\n",
    "print(zeroes.dtype)"
   ]
  },
  {
   "cell_type": "code",
   "execution_count": 7,
   "id": "cc889ec6",
   "metadata": {},
   "outputs": [
    {
     "name": "stdout",
     "output_type": "stream",
     "text": [
      "[[[0. 0. 0.]\n",
      "  [0. 0. 0.]\n",
      "  [0. 0. 0.]]\n",
      "\n",
      " [[0. 0. 0.]\n",
      "  [0. 0. 0.]\n",
      "  [0. 0. 0.]]\n",
      "\n",
      " [[0. 0. 0.]\n",
      "  [0. 0. 0.]\n",
      "  [0. 0. 0.]]]\n"
     ]
    }
   ],
   "source": [
    "# allocate memory of specifed shape without initialising \n",
    "\n",
    "empty_array = np.empty((3,3,3))\n",
    "\n",
    "print(empty_array)"
   ]
  },
  {
   "cell_type": "code",
   "execution_count": 8,
   "id": "5eda354d",
   "metadata": {},
   "outputs": [
    {
     "name": "stdout",
     "output_type": "stream",
     "text": [
      "[   0    5   10   15   20   25   30   35   40   45   50   55   60   65\n",
      "   70   75   80   85   90   95  100  105  110  115  120  125  130  135\n",
      "  140  145  150  155  160  165  170  175  180  185  190  195  200  205\n",
      "  210  215  220  225  230  235  240  245  250  255  260  265  270  275\n",
      "  280  285  290  295  300  305  310  315  320  325  330  335  340  345\n",
      "  350  355  360  365  370  375  380  385  390  395  400  405  410  415\n",
      "  420  425  430  435  440  445  450  455  460  465  470  475  480  485\n",
      "  490  495  500  505  510  515  520  525  530  535  540  545  550  555\n",
      "  560  565  570  575  580  585  590  595  600  605  610  615  620  625\n",
      "  630  635  640  645  650  655  660  665  670  675  680  685  690  695\n",
      "  700  705  710  715  720  725  730  735  740  745  750  755  760  765\n",
      "  770  775  780  785  790  795  800  805  810  815  820  825  830  835\n",
      "  840  845  850  855  860  865  870  875  880  885  890  895  900  905\n",
      "  910  915  920  925  930  935  940  945  950  955  960  965  970  975\n",
      "  980  985  990  995 1000]\n",
      "[   1.           23.70454545   46.40909091   69.11363636   91.81818182\n",
      "  114.52272727  137.22727273  159.93181818  182.63636364  205.34090909\n",
      "  228.04545455  250.75        273.45454545  296.15909091  318.86363636\n",
      "  341.56818182  364.27272727  386.97727273  409.68181818  432.38636364\n",
      "  455.09090909  477.79545455  500.5         523.20454545  545.90909091\n",
      "  568.61363636  591.31818182  614.02272727  636.72727273  659.43181818\n",
      "  682.13636364  704.84090909  727.54545455  750.25        772.95454545\n",
      "  795.65909091  818.36363636  841.06818182  863.77272727  886.47727273\n",
      "  909.18181818  931.88636364  954.59090909  977.29545455 1000.        ]\n"
     ]
    }
   ],
   "source": [
    "# fill arrays with special methods: arange() and linspace()\n",
    "\n",
    "sequence = np.arange(0, 1005, 5)  # works similar to range function (start, end, step)\n",
    "print(sequence)\n",
    "\n",
    "distribute = np.linspace(1, 1000, 45) # distributes all the values evenly from start to end in the given size (start, end, size)\n",
    "\n",
    "# distributes 1-1000 evenly over 45 elements\n",
    "print(distribute)"
   ]
  },
  {
   "cell_type": "code",
   "execution_count": 9,
   "id": "7abb7ce0",
   "metadata": {},
   "outputs": [
    {
     "name": "stdout",
     "output_type": "stream",
     "text": [
      "nan\n",
      "inf\n"
     ]
    },
    {
     "data": {
      "text/plain": [
       "np.True_"
      ]
     },
     "execution_count": 9,
     "metadata": {},
     "output_type": "execute_result"
    }
   ],
   "source": [
    "# two important attributes when dealing with exceptional values\n",
    "\n",
    "print(np.nan) # can be interchanged with 0\n",
    "print(np.inf) # can be used instead of throwing out a DivisionByZero exception\n",
    "\n",
    "np.isnan(np.nan) # returns true or false \n",
    "np.isinf(np.inf) # returns true of false \n",
    "\n",
    "#example usage \n",
    "\n",
    "# print(np.isnan(np.sqrt(-1)))\n",
    "# print(np.isinf(1 / 0))"
   ]
  },
  {
   "cell_type": "code",
   "execution_count": 10,
   "id": "3599ab1f",
   "metadata": {},
   "outputs": [
    {
     "name": "stdout",
     "output_type": "stream",
     "text": [
      "[1 2 3 4 5 6 7 8 9] \n",
      "\n",
      "[10 11 12 13 14 15 16 17 18] \n",
      "\n",
      "[11 13 15 17 19 21 23 25 27]\n",
      "[-9 -9 -9 -9 -9 -9 -9 -9 -9]\n",
      "[ 10  22  36  52  70  90 112 136 162]\n",
      "[0.1        0.18181818 0.25       0.30769231 0.35714286 0.4\n",
      " 0.4375     0.47058824 0.5       ]\n",
      "[[ 84  90  96]\n",
      " [201 216 231]\n",
      " [318 342 366]]\n"
     ]
    }
   ],
   "source": [
    "# arithmetic operations on arrays\n",
    "\n",
    "array_1 = np.arange(1, 10)\n",
    "array_2 = np.arange(10, 19)\n",
    "\n",
    "# the reshape method reshapes the array into the specified shape, but there should exactly the same number of elements for reshape to work\n",
    "reshaped_array_1 = array_1.reshape(3,3)\n",
    "reshaped_array_2 = array_2.reshape(3,3)\n",
    "\n",
    "print(array_1, \"\\n\")\n",
    "print(array_2, \"\\n\")\n",
    "\n",
    "print(array_1 + array_2) # add \n",
    "print(array_1 - array_2) # subtract \n",
    "print(array_1 * array_2) # multiply\n",
    "print(array_1 / array_2) # divide\n",
    "\n",
    "print(reshaped_array_1 @ reshaped_array_2) # perform matrix multiplication\n",
    "\n",
    "# reshape() doesn require assignment \n",
    "# resize() performs the same thing but it does not require assignment to variable "
   ]
  },
  {
   "cell_type": "code",
   "execution_count": 11,
   "id": "1aa332e1",
   "metadata": {},
   "outputs": [
    {
     "name": "stdout",
     "output_type": "stream",
     "text": [
      "[1 2 3 4 5]\n",
      "[ 1  2  3  4  5  6  7  8  9 10]\n"
     ]
    }
   ],
   "source": [
    "# Adding elements to an array \n",
    "\n",
    "a = np.array([1,2,3,4,5])\n",
    "print(a)\n",
    "\n",
    "a = np.append(a, [6,7,8,9,10])\n",
    "print(a)"
   ]
  },
  {
   "cell_type": "code",
   "execution_count": 12,
   "id": "a91aa8b7",
   "metadata": {},
   "outputs": [
    {
     "name": "stdout",
     "output_type": "stream",
     "text": [
      "[[ 1  2  3  4  5]\n",
      " [ 6  7  8  9 10]]\n",
      "[ 1  2  3  4  5  6  7  8 10]\n",
      "[[ 1  2  3  4  5]\n",
      " [ 6  7  8  9 10]]\n",
      "[[1 2 3 4 5]]\n"
     ]
    }
   ],
   "source": [
    "# deleting element from an array \n",
    "\n",
    "b = np.array([[1,2,3,4,5],\n",
    "              [6,7,8,9,10]])\n",
    "print(b)\n",
    "\n",
    "b = np.delete(b, 8) # array reshaped to 1D and the element at the 8th index is deleted\n",
    "print(b)\n",
    "\n",
    "#deleting entire rows and columns\n",
    "\n",
    "c = np.array([[1,2,3,4,5],\n",
    "              [6,7,8,9,10]])\n",
    "print(c)\n",
    "print(np.delete(c, 1, 0)) # deletes entire second row"
   ]
  },
  {
   "cell_type": "code",
   "execution_count": 13,
   "id": "6e4e6b38",
   "metadata": {},
   "outputs": [
    {
     "name": "stdout",
     "output_type": "stream",
     "text": [
      "[[1 2 3 4 5 6 7 7 6 4]\n",
      " [2 3 4 5 6 7 7 6 7 5]]\n",
      "[1 2 3 4 5 6 7 7 6 4 2 3 4 5 6 7 7 6 7 5]\n"
     ]
    }
   ],
   "source": [
    "# flattening an array \n",
    "\n",
    "matrix = [[1,2,3,4,5,6,7,7,6,4], \n",
    "          [2,3,4,5,6,7,7,6,7,5]]\n",
    "\n",
    "dimensional = np.array(matrix)\n",
    "print(dimensional)\n",
    "\n",
    "one_d_matrix = dimensional.flatten() # flattens array with any dimensions to one dimensional array\n",
    "print(one_d_matrix)\n",
    "\n",
    "# flatten copies the array and gives the transformation \n",
    "# ravel() perfomrs the same function but modifies the original array "
   ]
  },
  {
   "cell_type": "code",
   "execution_count": 24,
   "id": "705c6173",
   "metadata": {},
   "outputs": [
    {
     "name": "stdout",
     "output_type": "stream",
     "text": [
      "[[ 1  2  3  4  5]\n",
      " [ 6  7  8  9 10]]\n",
      "[[ 1  6]\n",
      " [ 2  7]\n",
      " [ 3  8]\n",
      " [ 4  9]\n",
      " [ 5 10]]\n",
      "[[ 1  6]\n",
      " [ 2  7]\n",
      " [ 3  8]\n",
      " [ 4  9]\n",
      " [ 5 10]] \n",
      "\n",
      "[[1 2 3]\n",
      " [4 5 6]\n",
      " [7 8 9]]\n",
      "[[1 4 7]\n",
      " [2 5 8]\n",
      " [3 6 9]]\n"
     ]
    }
   ],
   "source": [
    "# Matrix methods\n",
    "\n",
    "sample_array = np.array([[1,2,3,4,5], [6,7,8,9,10]])\n",
    "print(sample_array)\n",
    "\n",
    "# transpose matrix (interchange rows and columns)\n",
    "print(sample_array.transpose()) # requires assignment to a variable to be stored\n",
    "print(sample_array.T, \"\\n\") # performs the same thing\n",
    "\n",
    "# swap axes\n",
    "\n",
    "array_2 = np.array([[1,2,3], [4,5,6], [7,8,9]])\n",
    "print(array_2)\n",
    "\n",
    "print(array_2.swapaxes(0,1))\n"
   ]
  },
  {
   "cell_type": "code",
   "execution_count": null,
   "id": "2b693cae",
   "metadata": {},
   "outputs": [
    {
     "name": "stdout",
     "output_type": "stream",
     "text": [
      "[[ 1  2  3  4  5]\n",
      " [ 6  7  8  9 10]\n",
      " [11 12 13 14 15]\n",
      " [16 17 18 19 20]] \n",
      "\n",
      "[[ 1  2  3  4  5 11 12 13 14 15]\n",
      " [ 6  7  8  9 10 16 17 18 19 20]]\n"
     ]
    }
   ],
   "source": [
    "# merging two arrays\n",
    "\n",
    "array1 = np.array([[1,2,3,4,5], [6,7,8,9,10]])\n",
    "array2 = np.array([[11,12,13,14,15], [16,17,18,19,20]])\n",
    "\n",
    "new_array = np.concatenate((array1, array2), axis = 0) # axis = 0 merges arrays row wise\n",
    "print(new_array, \"\\n\")\n",
    "\n",
    "new_array = np.concatenate((array1, array2), axis = 1) # axis = 1 merges arrays column wise\n",
    "print(new_array)"
   ]
  },
  {
   "cell_type": "code",
   "execution_count": null,
   "id": "6b58dfd1",
   "metadata": {},
   "outputs": [
    {
     "name": "stdout",
     "output_type": "stream",
     "text": [
      "[[[ 1  2  3  4  5]\n",
      "  [ 6  7  8  9 10]]\n",
      "\n",
      " [[11 12 13 14 15]\n",
      "  [16 17 18 19 20]]] \n",
      "\n",
      "[[ 1  2  3  4  5 11 12 13 14 15]\n",
      " [ 6  7  8  9 10 16 17 18 19 20]] \n",
      "\n",
      "[[ 1  2  3  4  5]\n",
      " [ 6  7  8  9 10]\n",
      " [11 12 13 14 15]\n",
      " [16 17 18 19 20]] \n",
      "\n"
     ]
    }
   ],
   "source": [
    "# stacking two arrays\n",
    "\n",
    "# stacking arrays, just creates a new dimension and returns the array, it literally stacks array on top of the other\n",
    "\n",
    "new_array = np.stack((array1, array2))\n",
    "print(new_array, \"\\n\") # returns a 3d array\n",
    "\n",
    "print(np.hstack((array1, array2)), \"\\n\") # merges arrays horizontally \n",
    "print(np.vstack((array1, array2)), \"\\n\") # merges arrays vertically "
   ]
  },
  {
   "cell_type": "code",
   "execution_count": 38,
   "id": "b52d15f5",
   "metadata": {},
   "outputs": [
    {
     "name": "stdout",
     "output_type": "stream",
     "text": [
      "[[ 1  2  3  4  5]\n",
      " [ 6  7  8  9 10]\n",
      " [11 12 13 14 15]\n",
      " [16 17 18 19 20]]\n",
      "[array([[1, 2, 3, 4, 5]]), array([[ 6,  7,  8,  9, 10]]), array([[11, 12, 13, 14, 15]]), array([[16, 17, 18, 19, 20]])]\n"
     ]
    }
   ],
   "source": [
    "# spilting arrays\n",
    "\n",
    "a = np.concatenate((array1, array2), axis = 0)\n",
    "print(a)\n",
    "\n",
    "# axis = 0 splits rows, axis = 1 splits columns\n",
    "print(np.split(a, 4, axis = 0)) "
   ]
  },
  {
   "cell_type": "code",
   "execution_count": 43,
   "id": "ae9df73b",
   "metadata": {},
   "outputs": [
    {
     "name": "stdout",
     "output_type": "stream",
     "text": [
      "1\n",
      "20\n",
      "210\n",
      "10.5\n",
      "10.5\n",
      "5.766281297335398\n"
     ]
    }
   ],
   "source": [
    "# Aggregate functions \n",
    "\n",
    "# find the smallest element\n",
    "print(a.min())\n",
    "\n",
    "# find the largest element\n",
    "print(a.max())\n",
    "\n",
    "# find the sum of elements in an array\n",
    "print(a.sum())\n",
    "\n",
    "# find the average of all elements in an array\n",
    "print(a.mean())\n",
    "\n",
    "# find the median\n",
    "print(np.median(a))\n",
    "\n",
    "# find the standard deviation\n",
    "print(a.std())"
   ]
  },
  {
   "cell_type": "code",
   "execution_count": 124,
   "id": "fe9186ed",
   "metadata": {},
   "outputs": [
    {
     "name": "stdout",
     "output_type": "stream",
     "text": [
      "[[[ 4 12 37 20]\n",
      "  [93 99 30 63]\n",
      "  [48 88  0 58]]\n",
      "\n",
      " [[17 74 77 30]\n",
      "  [39 96 29 80]\n",
      "  [52 54 22 53]]]\n",
      "[[6 7 6 8 3 5 5 6 2 5]\n",
      " [4 4 4 4 3 7 5 5 6 6]\n",
      " [6 5 3 6 4 6 5 4 5 7]\n",
      " [3 4 3 9 3 6 7 8 6 5]\n",
      " [4 3 6 8 3 3 6 3 5 6]]\n",
      "[[181.88431851 160.56489232 209.26722483 170.85053415 191.65888822\n",
      "  155.61206203 199.61956416 171.78055895 189.12418211 206.07212783]\n",
      " [185.00987797 162.88374594 180.03464655 175.09825989 179.74040903\n",
      "  190.31153045 180.72042607 195.64948335 168.14133877 160.81055785]\n",
      " [194.22426313 175.71649425 162.80846788 190.48189426 191.64896722\n",
      "  181.33020342 168.16052355 163.38353807 192.13454506 194.85159064]\n",
      " [186.96508225 209.71737037 143.99995097 179.13206003 166.5305121\n",
      "  178.67242044 182.81050484 161.46625585 186.71328207 186.88732943]\n",
      " [185.87271517 166.63984592 162.43356073 205.02657039 170.61243795\n",
      "  183.92142537 183.11663414 170.13290989 199.15972763 175.29009293]]\n",
      "[[84 19 39 56 73 63 26 18 55 77]\n",
      " [64 49 44 62 67 15 67 21 35 73]\n",
      " [75 76 19 62 71 28 78 50 18 17]\n",
      " [13 70 18 55 60 21 47 29 21 97]\n",
      " [20 44 14 23  1 64 52  5 14 53]]\n"
     ]
    }
   ],
   "source": [
    "# using random in numpy \n",
    "\n",
    "# generating a random array \n",
    "random_array = np.random.randint(100, size = (2,3,4)) # size specifies the shape of the array\n",
    "print(random_array)\n",
    "\n",
    "# use binomial distribution (gives some control over the randomness)\n",
    "random_array = np.random.binomial(10, p = 0.5, size = (5, 10))\n",
    "print(random_array)\n",
    "\n",
    "# use normal distribution\n",
    "random_array = np.random.normal(loc = 180, scale = 15, size = (5,10))\n",
    "print(random_array)\n",
    "\n",
    "# use the random.choice()\n",
    "random_choices = np.random.choice([x for x in range(1,101)], size = (5,10))\n",
    "print(random_choices)\n"
   ]
  },
  {
   "cell_type": "code",
   "execution_count": 167,
   "id": "a2d495cb",
   "metadata": {},
   "outputs": [
    {
     "name": "stdout",
     "output_type": "stream",
     "text": [
      "[[2963 3500 8798 3949 1638 1203 5582 2318 1706 5068]\n",
      " [7607 8939 1082 1178  408 7400 9181 4501 6466 7211]\n",
      " [5899 9610 7862 4652 9953 4376  155 1238 7048 1449]\n",
      " [4964 5884 2233  926 3319 2881 9414 8742 4662 1165]\n",
      " [9806 1357 3710 1231 2585 5479 4252 1973 2058 9449]\n",
      " [7484 1222 7862 5673 5888 9680 9202 4542 4857  794]\n",
      " [2558 2807 4100 3803 8442 5122 1012 6548 8970 1745]\n",
      " [ 744 7745 5969 8284 6277  242 1582  552 2240 8147]\n",
      " [1166 9523 5440 9362 9021 1220 1504 8452 8395 5711]\n",
      " [1713 6892 9028 4344 1770 8525 6178 4691 1881 9625]] \n",
      "\n",
      "[[2963 3500 8798 3949 1638 1203 5582 2318 1706 5068]\n",
      " [7607 8939 1082 1178  408 7400 9181 4501 6466 7211]\n",
      " [5899 9610 7862 4652 9953 4376  155 1238 7048 1449]\n",
      " [4964 5884 2233  926 3319 2881 9414 8742 4662 1165]\n",
      " [9806 1357 3710 1231 2585 5479 4252 1973 2058 9449]\n",
      " [7484 1222 7862 5673 5888 9680 9202 4542 4857  794]\n",
      " [2558 2807 4100 3803 8442 5122 1012 6548 8970 1745]\n",
      " [ 744 7745 5969 8284 6277  242 1582  552 2240 8147]\n",
      " [1166 9523 5440 9362 9021 1220 1504 8452 8395 5711]\n",
      " [1713 6892 9028 4344 1770 8525 6178 4691 1881 9625]]\n",
      "[[2963. 3500. 8798. 3949. 1638. 1203. 5582. 2318. 1706. 5068.]\n",
      " [7607. 8939. 1082. 1178.  408. 7400. 9181. 4501. 6466. 7211.]\n",
      " [5899. 9610. 7862. 4652. 9953. 4376.  155. 1238. 7048. 1449.]\n",
      " [4964. 5884. 2233.  926. 3319. 2881. 9414. 8742. 4662. 1165.]\n",
      " [9806. 1357. 3710. 1231. 2585. 5479. 4252. 1973. 2058. 9449.]\n",
      " [7484. 1222. 7862. 5673. 5888. 9680. 9202. 4542. 4857.  794.]\n",
      " [2558. 2807. 4100. 3803. 8442. 5122. 1012. 6548. 8970. 1745.]\n",
      " [ 744. 7745. 5969. 8284. 6277.  242. 1582.  552. 2240. 8147.]\n",
      " [1166. 9523. 5440. 9362. 9021. 1220. 1504. 8452. 8395. 5711.]\n",
      " [1713. 6892. 9028. 4344. 1770. 8525. 6178. 4691. 1881. 9625.]]\n"
     ]
    }
   ],
   "source": [
    "# importing and exporting in numpy \n",
    "\n",
    "# saving and loading arrays\n",
    "a = np.random.randint(1, 10000, size = (10, 10))\n",
    "print(a, \"\\n\")\n",
    "\n",
    "np.save(\"myarray.npy\", a)\n",
    "\n",
    "b = np.load(\"myarray.npy\")\n",
    "print(b)\n",
    "\n",
    "# saving and loading as txt files \n",
    "\n",
    "np.savetxt(\"myarray.csv\", a, delimiter=\",\")\n",
    "\n",
    "c = np.loadtxt(\"myarray.csv\", delimiter=\",\") \n",
    "print(c)"
   ]
  },
  {
   "cell_type": "markdown",
   "id": "6dcef029",
   "metadata": {},
   "source": [
    "\n",
    "## NumPy Arrays (`ndarray`)\n",
    "\n",
    "1.  **Core Concept:** A NumPy array (specifically, the `ndarray` object) is the fundamental data structure in the NumPy library. It's a powerful N-dimensional array object, which is essentially a grid of values, *all of the same data type*.\n",
    "\n",
    "2.  **Key Advantages over Python Lists:**\n",
    "    * **Performance:** NumPy operations are implemented in C, making them much faster than equivalent operations on Python lists, especially for large datasets.\n",
    "\n",
    "    * **Memory Efficiency:** Arrays store elements of the same type contiguously in memory, unlike Python lists which can hold objects of different types scattered in memory. This leads to smaller memory footprints.\n",
    "\n",
    "    * **Functionality:** Provides a vast collection of high-level mathematical functions that operate efficiently on arrays (e.g., linear algebra, Fourier transforms, random number generation).\n",
    "\n",
    "    * **Vectorization:** Allows you to perform operations on entire arrays element-wise without writing explicit loops in Python. For example, `array * 2` multiplies every element in the array by 2.\n",
    "\n",
    "3.  **Key Attributes:** Every `ndarray` has important attributes:\n",
    "    * `ndarray.ndim`: The number of dimensions (or axes) of the array.\n",
    "    * `ndarray.shape`: A tuple indicating the size of the array along each dimension (e.g., `(3, 4)` for a 3x4 matrix).\n",
    "    * `ndarray.size`: The total number of elements in the array.\n",
    "    * `ndarray.dtype`: An object describing the data type of the elements (e.g., `int64`, `float64`, `bool`).\n",
    "\n",
    "4.  **Creation:** Commonly created from Python lists or tuples using `np.array()`, or using built-in functions like `np.zeros()`, `np.ones()`, `np.arange()`, `np.linspace()`.\n",
    "\n",
    "5.  **Indexing & Slicing:** Similar to Python lists for 1D arrays, but extends naturally to multiple dimensions using comma-separated indices or slices (e.g., `array[1, 2]` or `array[0, :]`).\n",
    "\n",
    "**In short:** NumPy arrays are efficient, high-performance multi-dimensional containers for numerical data, forming the bedrock of scientific computing in Python. They enable fast, vectorized operations crucial for data analysis, machine learning, and scientific simulations."
   ]
  },
  {
   "cell_type": "markdown",
   "id": "22e354d6",
   "metadata": {},
   "source": [
    "## Data types in NumPy\n",
    "\n",
    "NumPy provides a wide variety of data types that you can use to define the elements of your arrays. These data types are similar to the built-in Python types but with some added functionalities and more specific sizes. Here's a breakdown of the available data type categories in NumPy:\n",
    "\n",
    "**1. Booleans:**\n",
    "\n",
    "* `np.bool_`: Represents boolean values (True or False). It's stored as a single byte.\n",
    "\n",
    "**2. Integers:**\n",
    "\n",
    "* **Signed Integers:** These can represent both positive and negative whole numbers.\n",
    "    * `np.int8`: Byte (-128 to 127)\n",
    "    * `np.int16`: Integer (-32768 to 32767)\n",
    "    * `np.int32`: Integer (-2147483648 to 2147483647)\n",
    "    * `np.int64` or `np.int_`: Integer (-9223372036854775808 to 9223372036854775807). This is the default integer type in NumPy and is typically equivalent to C `long`.\n",
    "    * `np.intc`: Identical to the C `int` (usually `int32` or `int64`, depending on the platform).\n",
    "    * `np.intp`: Integer used for indexing, typically the same as C `ssize_t` (usually `int32` or `int64`, depending on the platform).\n",
    "* **Unsigned Integers:** These can only represent non-negative whole numbers.\n",
    "    * `np.uint8`: Unsigned byte (0 to 255)\n",
    "    * `np.uint16`: Unsigned integer (0 to 65535)\n",
    "    * `np.uint32`: Unsigned integer (0 to 4294967295)\n",
    "    * `np.uint64` or `np.uint`: Unsigned integer (0 to 18446744073709551615). This is typically equivalent to C `unsigned long`.\n",
    "    * `np.uintc`: Identical to the C `unsigned int` (usually `uint32` or `uint64`, depending on the platform).\n",
    "    * `np.uintp`: Unsigned integer used for indexing, typically the same as C `size_t` (usually `uint32` or `uint64`, depending on the platform).\n",
    "\n",
    "**3. Floating-Point Numbers:**\n",
    "\n",
    "* `np.float16` or `np.half`: Half-precision float (sign bit, 5 bits exponent, 10 bits mantissa)\n",
    "* `np.float32` or `np.single`: Single-precision float (sign bit, 8 bits exponent, 23 bits mantissa)\n",
    "* `np.float64` or `np.double` or `np.float_`: Double-precision float (sign bit, 11 bits exponent, 52 bits mantissa). This is the default floating-point type in NumPy and is typically equivalent to Python's `float`.\n",
    "* `np.longdouble`: Extended-precision float. The number of bits is platform-dependent (could be 96 or 128 bits).\n",
    "\n",
    "**4. Complex Numbers:**\n",
    "\n",
    "* `np.complex64` or `np.csingle`: Complex number represented by two 32-bit floats (real and imaginary parts).\n",
    "* `np.complex128` or `np.cdouble` or `np.complex_`: Complex number represented by two 64-bit floats (real and imaginary parts). This is the default complex type in NumPy and is typically equivalent to Python's `complex`.\n",
    "* `np.clongdouble`: Complex number represented by two extended-precision floats.\n",
    "\n",
    "**5. Strings:**\n",
    "\n",
    "* `np.str_` or `np.unicode_`: Fixed-length Unicode string. The length is determined when the array is created. For example, `np.array(['hello', 'world'], dtype='U5')` creates an array of Unicode strings, each with a maximum length of 5 characters.\n",
    "* `np.bytes_` or `np.string_`: Fixed-length byte string. Similar to Unicode strings but stores raw bytes.\n",
    "\n",
    "**6. Objects:**\n",
    "\n",
    "* `np.object_` or `np.object`: Allows storing Python objects in the array. This can be useful for arrays with elements of different types, but it loses the performance benefits of NumPy arrays with fixed data types.\n",
    "\n",
    "**7. Datetime and Timedelta:**\n",
    "\n",
    "* `np.datetime64`: Represents dates and times with various levels of precision.\n",
    "* `np.timedelta64`: Represents differences between datetimes (time durations).\n",
    "\n",
    "**8. Fixed-size chunks of memory (void):**\n",
    "\n",
    "* `np.void`: Represents a fixed-size sequence of bytes. It can be useful for low-level operations or when dealing with structured data types.\n",
    "\n",
    "You can specify the data type of a NumPy array when you create it using the `dtype` argument:\n",
    "\n",
    "```python\n",
    "import numpy as np\n",
    "\n",
    "int_array = np.array([1, 2, 3], dtype=np.int32)\n",
    "float_array = np.array([1.0, 2.5, 3.7], dtype=np.float64)\n",
    "string_array = np.array(['apple', 'banana'], dtype='U6')\n",
    "```\n",
    "\n",
    "You can also check the data type of an existing array using the `.dtype` attribute:\n",
    "\n",
    "```python\n",
    "print(int_array.dtype)  # Output: int32\n",
    "print(string_array.dtype) # Output: <U6\n",
    "```\n",
    "\n",
    "Choosing the appropriate data type is important for memory efficiency and performance. Using a smaller data type (e.g., `int16` instead of `int64`) can save memory if the values in your array are within the range of the smaller type. NumPy's vectorized operations are also generally faster when working with arrays of a specific, fixed data type."
   ]
  },
  {
   "cell_type": "markdown",
   "id": "af5506d3",
   "metadata": {},
   "source": [
    "**User Notes**\n",
    "\n",
    "* Numpy arrays contain homogeneous data type\n",
    "* Arithmetic operations follow the rules of matrix operations when it comes to shapes, although division is an exception\n",
    " "
   ]
  }
 ],
 "metadata": {
  "kernelspec": {
   "display_name": "cortex_engine",
   "language": "python",
   "name": "python3"
  },
  "language_info": {
   "codemirror_mode": {
    "name": "ipython",
    "version": 3
   },
   "file_extension": ".py",
   "mimetype": "text/x-python",
   "name": "python",
   "nbconvert_exporter": "python",
   "pygments_lexer": "ipython3",
   "version": "3.13.2"
  }
 },
 "nbformat": 4,
 "nbformat_minor": 5
}
