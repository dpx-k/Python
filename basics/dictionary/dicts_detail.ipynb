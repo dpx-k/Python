{
 "cells": [
  {
   "cell_type": "code",
   "execution_count": 1,
   "id": "84d45866",
   "metadata": {},
   "outputs": [
    {
     "name": "stdout",
     "output_type": "stream",
     "text": [
      "{'name': 'Alice', 'age': 30, 'city': 'New York', 'is_student': False, 'grades': {'math': 95, 'science': 88, 'data_structures': 92}, 'hobbies': ['reading', 'hiking', 'coding'], 'contact_info': {'email': 'alice.example@email.com', 'phone': '123-456-7890'}}\n"
     ]
    }
   ],
   "source": [
    "my_dictionary = {\n",
    "    \"name\": \"Alice\",\n",
    "    \"age\": 30,\n",
    "    \"city\": \"New York\",\n",
    "    \"is_student\": False,\n",
    "    \"grades\": {\"math\": 95, \"science\": 88, \"data_structures\": 92},\n",
    "    \"hobbies\": [\"reading\", \"hiking\", \"coding\"],\n",
    "    \"contact_info\": {\n",
    "        \"email\": \"alice.example@email.com\",\n",
    "        \"phone\": \"123-456-7890\"\n",
    "    }\n",
    "}\n",
    "\n",
    "print(my_dictionary)"
   ]
  },
  {
   "cell_type": "code",
   "execution_count": null,
   "id": "151d1c40",
   "metadata": {},
   "outputs": [
    {
     "name": "stdout",
     "output_type": "stream",
     "text": [
      "dict_keys(['name', 'age', 'city', 'is_student', 'grades', 'hobbies', 'contact_info'])\n",
      "name\n",
      "age\n",
      "city\n",
      "is_student\n",
      "grades\n",
      "hobbies\n",
      "contact_info\n",
      "\n",
      "Alice\n",
      "30\n",
      "New York\n",
      "False\n",
      "{'math': 95, 'science': 88, 'data_structures': 92}\n",
      "['reading', 'hiking', 'coding']\n",
      "{'email': 'alice.example@email.com', 'phone': '123-456-7890'}\n"
     ]
    }
   ],
   "source": [
    "print(my_dictionary.keys())\n",
    "\n",
    "#iterate through each key \n",
    "for key in my_dictionary.keys(): \n",
    "    print(key)\n",
    "\n",
    "print()\n",
    "\n",
    "# print the values \n",
    "for key in my_dictionary.keys(): \n",
    "    print(my_dictionary[key])"
   ]
  },
  {
   "cell_type": "code",
   "execution_count": 10,
   "id": "70c33952",
   "metadata": {},
   "outputs": [
    {
     "name": "stdout",
     "output_type": "stream",
     "text": [
      "['name', 'age', 'city', 'is_student', 'grades', 'hobbies', 'contact_info']\n"
     ]
    }
   ],
   "source": [
    "# store the keys in a list [might be useful somewhere]\n",
    "\n",
    "keys = list(my_dictionary.keys())\n",
    "print(keys)"
   ]
  },
  {
   "cell_type": "code",
   "execution_count": 13,
   "id": "568a9765",
   "metadata": {},
   "outputs": [
    {
     "name": "stdout",
     "output_type": "stream",
     "text": [
      "Alice\n",
      "Alice\n",
      "None\n"
     ]
    }
   ],
   "source": [
    "# get() method \n",
    "\n",
    "#instead of fetching the value of a key like this \n",
    "print(my_dictionary['name'])\n",
    "\n",
    "# use the get method \n",
    "print(my_dictionary.get('name'))\n",
    "\n",
    "# the get() methods returns none type if the key doesn't exist in the dict\n",
    "print(my_dictionary.get('mom_name'))"
   ]
  }
 ],
 "metadata": {
  "kernelspec": {
   "display_name": ".cortex_engine",
   "language": "python",
   "name": "python3"
  },
  "language_info": {
   "codemirror_mode": {
    "name": "ipython",
    "version": 3
   },
   "file_extension": ".py",
   "mimetype": "text/x-python",
   "name": "python",
   "nbconvert_exporter": "python",
   "pygments_lexer": "ipython3",
   "version": "3.13.2"
  }
 },
 "nbformat": 4,
 "nbformat_minor": 5
}
