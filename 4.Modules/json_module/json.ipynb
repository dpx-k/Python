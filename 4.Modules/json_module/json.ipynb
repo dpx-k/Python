{
 "cells": [
  {
   "cell_type": "code",
   "execution_count": 2,
   "id": "b9a43e70",
   "metadata": {},
   "outputs": [],
   "source": [
    "import json\n",
    "from urllib.request import urlopen"
   ]
  },
  {
   "cell_type": "code",
   "execution_count": 3,
   "id": "91714339",
   "metadata": {},
   "outputs": [],
   "source": [
    "people_string = '''\n",
    "{\n",
    "    \"people\": [\n",
    "        {\n",
    "            \"name\": \"John Smith\",\n",
    "            \"phone\": \"615-555-7164\",\n",
    "            \"emails\": [\"johnsmith@bogusemail.com\", \"john.smith@work-place.com\"],\n",
    "            \"has_license\": false\n",
    "        },\n",
    "        {\n",
    "            \"name\": \"Jane Doe\",\n",
    "            \"phone\": \"560-555-5153\",\n",
    "            \"emails\": null,\n",
    "            \"has_license\": true\n",
    "        }\n",
    "    ]\n",
    "}\n",
    "'''\n"
   ]
  },
  {
   "cell_type": "code",
   "execution_count": 4,
   "id": "ab606ac7",
   "metadata": {},
   "outputs": [
    {
     "name": "stdout",
     "output_type": "stream",
     "text": [
      "{'people': [{'name': 'John Smith', 'phone': '615-555-7164', 'emails': ['johnsmith@bogusemail.com', 'john.smith@work-place.com'], 'has_license': False}, {'name': 'Jane Doe', 'phone': '560-555-5153', 'emails': None, 'has_license': True}]}\n",
      "<class 'dict'>\n"
     ]
    }
   ],
   "source": [
    "# convert the json string to python dict\n",
    "\n",
    "data = json.loads(people_string)\n",
    "print(data)\n",
    "print(type(data))"
   ]
  },
  {
   "cell_type": "code",
   "execution_count": 5,
   "id": "d9611cdc",
   "metadata": {},
   "outputs": [
    {
     "name": "stdout",
     "output_type": "stream",
     "text": [
      "John Smith ['johnsmith@bogusemail.com', 'john.smith@work-place.com']\n",
      "Jane Doe None\n"
     ]
    }
   ],
   "source": [
    "# iterate through the items in the dict\n",
    "\n",
    "for person in data['people']: \n",
    "    print(person['name'], person['emails'])"
   ]
  },
  {
   "cell_type": "code",
   "execution_count": null,
   "id": "ee0edd89",
   "metadata": {},
   "outputs": [
    {
     "name": "stdout",
     "output_type": "stream",
     "text": [
      "<class 'str'>\n",
      "{\n",
      "  \"people\": [\n",
      "    {\n",
      "      \"emails\": [\n",
      "        \"johnsmith@bogusemail.com\",\n",
      "        \"john.smith@work-place.com\"\n",
      "      ],\n",
      "      \"has_license\": false,\n",
      "      \"name\": \"John Smith\"\n",
      "    },\n",
      "    {\n",
      "      \"emails\": null,\n",
      "      \"has_license\": true,\n",
      "      \"name\": \"Jane Doe\"\n",
      "    }\n",
      "  ]\n",
      "}\n"
     ]
    }
   ],
   "source": [
    "# convert the python object back to json (delete phone numbers first)\n",
    "\n",
    "for person in data['people']: \n",
    "    del person['phone']\n",
    "\n",
    "people = json.dumps(data, indent=2, sort_keys = True) # indent parameter to make it more readable, sort_key sorts the dict keys alpahbetically\n",
    "print(people)"
   ]
  },
  {
   "cell_type": "code",
   "execution_count": 7,
   "id": "508e85a5",
   "metadata": {},
   "outputs": [
    {
     "name": "stdout",
     "output_type": "stream",
     "text": [
      "{'library_name': 'Sunset City Library', 'location': 'Sunset City, CA', 'books': [{'title': 'The Great Gatsby', 'author': 'F. Scott Fitzgerald', 'genre': 'Fiction', 'published_year': 1925, 'available': True}, {'title': 'Sapiens: A Brief History of Humankind', 'author': 'Yuval Noah Harari', 'genre': 'History', 'published_year': 2011, 'available': False}, {'title': 'The Catcher in the Rye', 'author': 'J.D. Salinger', 'genre': 'Fiction', 'published_year': 1951, 'available': True}, {'title': 'Clean Code', 'author': 'Robert C. Martin', 'genre': 'Programming', 'published_year': 2008, 'available': True}], 'librarian': {'name': 'Emily Waters', 'employee_id': 'LIB202', 'email': 'emily.waters@sunsetlibrary.org'}} \n",
      "\n",
      "The json file:  \n",
      "\n",
      "library_name : Sunset City Library\n",
      "location : Sunset City, CA\n",
      "books : [{'title': 'The Great Gatsby', 'author': 'F. Scott Fitzgerald', 'genre': 'Fiction', 'published_year': 1925, 'available': True}, {'title': 'Sapiens: A Brief History of Humankind', 'author': 'Yuval Noah Harari', 'genre': 'History', 'published_year': 2011, 'available': False}, {'title': 'The Catcher in the Rye', 'author': 'J.D. Salinger', 'genre': 'Fiction', 'published_year': 1951, 'available': True}, {'title': 'Clean Code', 'author': 'Robert C. Martin', 'genre': 'Programming', 'published_year': 2008, 'available': True}]\n",
      "librarian : {'name': 'Emily Waters', 'employee_id': 'LIB202', 'email': 'emily.waters@sunsetlibrary.org'}\n",
      "\n",
      "Books:\n",
      "{'title': 'The Great Gatsby', 'author': 'F. Scott Fitzgerald', 'genre': 'Fiction', 'published_year': 1925, 'available': True}\n",
      "{'title': 'Sapiens: A Brief History of Humankind', 'author': 'Yuval Noah Harari', 'genre': 'History', 'published_year': 2011, 'available': False}\n",
      "{'title': 'The Catcher in the Rye', 'author': 'J.D. Salinger', 'genre': 'Fiction', 'published_year': 1951, 'available': True}\n",
      "{'title': 'Clean Code', 'author': 'Robert C. Martin', 'genre': 'Programming', 'published_year': 2008, 'available': True}\n"
     ]
    }
   ],
   "source": [
    "# opening a json file and converting it into a python object\n",
    "with open (\"library.json\", 'r') as file: \n",
    "    data = json.load(file) # the function is load and not loads\n",
    "    print(data, '\\n')\n",
    "\n",
    "print(\"The json file: \", '\\n')\n",
    "for key,value in data.items(): \n",
    "    print(f\"{key} : {value}\")\n",
    "\n",
    "print(\"\\nBooks:\")\n",
    "for books in data['books']:\n",
    "    print(books)"
   ]
  },
  {
   "cell_type": "code",
   "execution_count": 8,
   "id": "4e7f6c5b",
   "metadata": {},
   "outputs": [
    {
     "name": "stdout",
     "output_type": "stream",
     "text": [
      "[{'title': 'The Great Gatsby', 'author': 'F. Scott Fitzgerald', 'genre': 'Fiction', 'published_year': 1925, 'available': True}, {'title': 'Sapiens: A Brief History of Humankind', 'author': 'Yuval Noah Harari', 'genre': 'History', 'published_year': 2011, 'available': False}, {'title': 'The Catcher in the Rye', 'author': 'J.D. Salinger', 'genre': 'Fiction', 'published_year': 1951, 'available': True}, {'title': 'Clean Code', 'author': 'Robert C. Martin', 'genre': 'Programming', 'published_year': 2008, 'available': True}]\n"
     ]
    }
   ],
   "source": [
    "# load the dict back as a json file, only the books this time\n",
    "\n",
    "books = data['books']\n",
    "print(books)\n",
    "with open ('books.json', 'w') as file: \n",
    "    json.dump(books, file, indent=2)"
   ]
  }
 ],
 "metadata": {
  "kernelspec": {
   "display_name": ".cortex_engine",
   "language": "python",
   "name": "python3"
  },
  "language_info": {
   "codemirror_mode": {
    "name": "ipython",
    "version": 3
   },
   "file_extension": ".py",
   "mimetype": "text/x-python",
   "name": "python",
   "nbconvert_exporter": "python",
   "pygments_lexer": "ipython3",
   "version": "3.13.2"
  }
 },
 "nbformat": 4,
 "nbformat_minor": 5
}
