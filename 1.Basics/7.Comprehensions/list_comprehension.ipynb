{
 "cells": [
  {
   "cell_type": "code",
   "execution_count": 1,
   "id": "59a8e19b",
   "metadata": {},
   "outputs": [
    {
     "name": "stdout",
     "output_type": "stream",
     "text": [
      "Updating the list:  [5, 6, 8, 10, 14, 16, 20, 22, 26, 32, 34]\n",
      "Creating new list:  [10, 12, 16, 20, 28, 32, 40, 44, 52, 64, 68]\n",
      "Divisible by four [12, 16, 20, 28, 32, 40, 44, 52, 64, 68]\n",
      "Divisible by four minus one:  [11, 15, 19, 27, 31, 39, 43, 51, 63, 67]\n",
      "Nines:  [0, 9, 18, 27, 36, 45, 54, 63, 72, 81, 90, 99]\n"
     ]
    }
   ],
   "source": [
    "data = [2,3,5,7,11,13,17,19,23,29,31]\n",
    "\n",
    "# Ex1: List comprehension: updating the same list\n",
    "data = [x+3 for x in data]\n",
    "print(\"Updating the list: \", data)\n",
    "\n",
    "# Ex2: List comprehension: creating a different list with updated values\n",
    "new_data = [x*2 for x in data]\n",
    "print(\"Creating new list: \", new_data)\n",
    "\n",
    "# Ex3: With an if-condition: Multiples of four:\n",
    "fourx = [x for x in new_data if x%4 == 0 ]\n",
    "print(\"Divisible by four\", fourx)\n",
    "\n",
    "# Ex4: Alternatively, we can update the list with the if condition as well\n",
    "fourxsub = [x-1 for x in new_data if x%4 == 0 ]\n",
    "print(\"Divisible by four minus one: \", fourxsub)\n",
    "\n",
    "# Ex5: Using range function:\n",
    "nines = [x for x in range(100) if x%9 == 0]\n",
    "print(\"Nines: \", nines)"
   ]
  },
  {
   "cell_type": "code",
   "execution_count": 2,
   "id": "a208c0e7",
   "metadata": {},
   "outputs": [
    {
     "name": "stdout",
     "output_type": "stream",
     "text": [
      "[1, 2, 3, 4, 5, 6]\n"
     ]
    }
   ],
   "source": [
    "# Flattening 2D lists\n",
    "\n",
    "matrix = [[1, 2], [3, 4], [5, 6]]\n",
    "flattened = [element for item in matrix\n",
    "             for element in item]\n",
    "print(flattened)"
   ]
  },
  {
   "cell_type": "code",
   "execution_count": 4,
   "id": "f4be08dd",
   "metadata": {},
   "outputs": [
    {
     "name": "stdout",
     "output_type": "stream",
     "text": [
      "{'name': 'Deepak', 'greeting': 'Hello, Deepak'}\n",
      "{'name': 'Bhanu', 'greeting': 'Hello, Bhanu'}\n",
      "{'name': 'Little Bhanu', 'greeting': 'Hello, Little Bhanu'}\n"
     ]
    }
   ],
   "source": [
    "# Creating list of Objects\n",
    "\n",
    "names = [\"Deepak\", \"Bhanu\", \"Little Bhanu\"]\n",
    "\n",
    "custom = [{\"name\": name, \"greeting\":f\"Hello, {name}\"} for name in names]\n",
    "\n",
    "for item in custom: \n",
    "    print(item)\n"
   ]
  }
 ],
 "metadata": {
  "kernelspec": {
   "display_name": ".cortex_engine",
   "language": "python",
   "name": "python3"
  },
  "language_info": {
   "codemirror_mode": {
    "name": "ipython",
    "version": 3
   },
   "file_extension": ".py",
   "mimetype": "text/x-python",
   "name": "python",
   "nbconvert_exporter": "python",
   "pygments_lexer": "ipython3",
   "version": "3.13.2"
  }
 },
 "nbformat": 4,
 "nbformat_minor": 5
}
