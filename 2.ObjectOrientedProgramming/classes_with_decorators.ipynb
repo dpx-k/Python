{
 "cells": [
  {
   "cell_type": "code",
   "execution_count": 2,
   "id": "fa1cff98",
   "metadata": {},
   "outputs": [
    {
     "name": "stdout",
     "output_type": "stream",
     "text": [
      "About to call the method with argument 100\n",
      "Done with the method invocation with argument 100 on instance ***red Chevrolet Corvette with 100 miles***. Result: 100\n",
      "--------------------\n",
      "About to call the method with argument blue\n",
      "Done with the method invocation with argument blue on instance ***blue Chevrolet Corvette with 100 miles***. Result: None\n",
      "--------------------\n",
      "About to call the method with argument 6\n",
      "Done with the method invocation with argument 6 on instance ***blue Chevrolet Corvette with 106 miles***. Result: 106\n"
     ]
    },
    {
     "data": {
      "text/plain": [
       "106"
      ]
     },
     "execution_count": 2,
     "metadata": {},
     "output_type": "execute_result"
    }
   ],
   "source": [
    "# EXAMPLE 1\n",
    "def addLogging(func): # The argument, func is a method of a class\n",
    "\n",
    "    def wrapper(self, x): # x is the argument that we're going to pass to func\n",
    "        print(f\"About to call the method with argument {x}\")\n",
    "        result = func(self, x) # actually call the method and store the result\n",
    "        print(f\"Done with the method invocation with argument {x} on instance {self}. Result: {result}\")\n",
    "        return result # return whatever our function returned\n",
    "\n",
    "    return wrapper # return our new function\n",
    "\n",
    "class Car:\n",
    "    def __init__(self, make, model, color, mileage):\n",
    "        self.make = make\n",
    "        self.model = model\n",
    "        self.color = color\n",
    "        self.mileage = mileage\n",
    "\n",
    "    @addLogging\n",
    "    def drive(self, miles):\n",
    "        self.mileage += miles\n",
    "        return self.mileage\n",
    "\n",
    "    @addLogging\n",
    "    def rePaint(self, color):\n",
    "        self.color = color\n",
    "\n",
    "    def __str__(self):\n",
    "        return(f\"***{self.color} {self.make} {self.model} with {self.mileage} miles***\")\n",
    "\n",
    "corvette = Car(\"Chevrolet\", \"Corvette\", \"red\", 0)\n",
    "\n",
    "corvette.drive(100)\n",
    "print(\"-\"*20)\n",
    "corvette.rePaint(\"blue\")\n",
    "print(\"-\"*20)\n",
    "corvette.drive(6)\n"
   ]
  },
  {
   "cell_type": "code",
   "execution_count": 3,
   "id": "60848ef5",
   "metadata": {},
   "outputs": [
    {
     "name": "stdout",
     "output_type": "stream",
     "text": [
      "Mustang says 'Beep!'\n"
     ]
    }
   ],
   "source": [
    "# EXAMPLE 2\n",
    "def addBeep(cls):\n",
    "    cls.beep = lambda self: print(f\"{self.model} says 'Beep!'\")\n",
    "    return cls\n",
    "\n",
    "@addBeep\n",
    "class Car:\n",
    "    def __init__(self, make, model, color, mileage):\n",
    "        self.make = make\n",
    "        self.model = model\n",
    "        self.color = color\n",
    "        self.mileage = mileage\n",
    "\n",
    "mustang = Car(\"Ford\", \"Mustang\", \"blue\", 0)\n",
    "mustang.beep() # Mustang says 'Beep!'A\n"
   ]
  },
  {
   "cell_type": "code",
   "execution_count": 4,
   "id": "25586eec",
   "metadata": {},
   "outputs": [
    {
     "name": "stdout",
     "output_type": "stream",
     "text": [
      "Accessing balance for Alice...\n",
      "1000\n",
      "Updating balance for Alice...\n",
      "Accessing balance for Alice...\n",
      "2000\n",
      "Deleting balance for Alice...\n"
     ]
    }
   ],
   "source": [
    "# PROPERTY DECORATOR\n",
    "class BankAccount:\n",
    "    def __init__(self, owner, balance):\n",
    "        self._owner = owner\n",
    "        self._balance = balance\n",
    "\n",
    "    @property\n",
    "    def balance(self):\n",
    "        print(f\"Accessing balance for {self._owner}...\")\n",
    "        return self._balance\n",
    "\n",
    "    @balance.setter\n",
    "    def balance(self, amount):\n",
    "        if amount < 0:\n",
    "            raise ValueError(\"Balance cannot be negative!\")\n",
    "        print(f\"Updating balance for {self._owner}...\")\n",
    "        self._balance = amount\n",
    "\n",
    "    @balance.deleter\n",
    "    def balance(self):\n",
    "        print(f\"Deleting balance for {self._owner}...\")\n",
    "        del self._balance\n",
    "\n",
    "# 🔹 Usage\n",
    "acc = BankAccount(\"Alice\", 1000)\n",
    "\n",
    "print(acc.balance)     # Accessing balance... -> 1000\n",
    "\n",
    "acc.balance = 2000     # Updating balance...\n",
    "print(acc.balance)     # Accessing balance... -> 2000\n",
    "\n",
    "del acc.balance        # Deleting balance...\n"
   ]
  },
  {
   "cell_type": "code",
   "execution_count": 7,
   "id": "6426c517",
   "metadata": {},
   "outputs": [
    {
     "name": "stdout",
     "output_type": "stream",
     "text": [
      "Toyota is going at 120 km/h\n",
      "km/h\n",
      "Total cars created: 2\n",
      "150\n",
      "180\n",
      "Deleting speed for Tesla\n"
     ]
    }
   ],
   "source": [
    "# METHOD DECORATOR\n",
    "\n",
    "class Car:\n",
    "    total_cars = 0  # Class variable\n",
    "\n",
    "    def __init__(self, brand, speed):\n",
    "        self.brand = brand\n",
    "        self._speed = speed\n",
    "        Car.total_cars += 1\n",
    "\n",
    "    # Instance method\n",
    "    def display_info(self):\n",
    "        return f\"{self.brand} is going at {self._speed} km/h\"\n",
    "\n",
    "    # Static method\n",
    "    @staticmethod\n",
    "    def speed_unit():\n",
    "        return \"km/h\"\n",
    "\n",
    "    # Class method\n",
    "    @classmethod\n",
    "    def get_total_cars(cls):\n",
    "        return f\"Total cars created: {cls.total_cars}\"\n",
    "\n",
    "    # Property (getter)\n",
    "    @property\n",
    "    def speed(self):\n",
    "        return self._speed\n",
    "\n",
    "    # Property setter\n",
    "    @speed.setter\n",
    "    def speed(self, value):\n",
    "        if value < 0:\n",
    "            raise ValueError(\"Speed cannot be negative\")\n",
    "        self._speed = value\n",
    "\n",
    "    # Property deleter\n",
    "    @speed.deleter\n",
    "    def speed(self):\n",
    "        print(f\"Deleting speed for {self.brand}\")\n",
    "        del self._speed\n",
    "\n",
    "\n",
    "# Testing everything\n",
    "car1 = Car(\"Toyota\", 120)\n",
    "car2 = Car(\"Tesla\", 150)\n",
    "\n",
    "# Instance method\n",
    "print(car1.display_info())   # Toyota is going at 120 km/h\n",
    "\n",
    "# Static method\n",
    "print(Car.speed_unit())      # km/h\n",
    "\n",
    "# Class method\n",
    "print(Car.get_total_cars())  # Total cars created: 2\n",
    "\n",
    "# Property getter\n",
    "print(car2.speed)            # 150\n",
    "\n",
    "# Property setter\n",
    "car2.speed = 180\n",
    "print(car2.speed)            # 180\n",
    "\n",
    "# Property deleter\n",
    "del car2.speed               # Deleting speed for Tesla\n"
   ]
  }
 ],
 "metadata": {
  "kernelspec": {
   "display_name": ".cortex_engine",
   "language": "python",
   "name": "python3"
  },
  "language_info": {
   "codemirror_mode": {
    "name": "ipython",
    "version": 3
   },
   "file_extension": ".py",
   "mimetype": "text/x-python",
   "name": "python",
   "nbconvert_exporter": "python",
   "pygments_lexer": "ipython3",
   "version": "3.13.2"
  }
 },
 "nbformat": 4,
 "nbformat_minor": 5
}
