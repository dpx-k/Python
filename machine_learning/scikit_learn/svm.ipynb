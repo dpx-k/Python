{
 "cells": [
  {
   "cell_type": "markdown",
   "id": "32c642f0",
   "metadata": {},
   "source": [
    "# Support Vector Machine"
   ]
  },
  {
   "cell_type": "code",
   "execution_count": 11,
   "id": "5aa0c850",
   "metadata": {},
   "outputs": [],
   "source": [
    "from sklearn import datasets\n",
    "import numpy as np \n",
    "from sklearn.model_selection import train_test_split\n",
    "from sklearn import svm\n",
    "from sklearn.metrics import accuracy_score\n"
   ]
  },
  {
   "cell_type": "code",
   "execution_count": 12,
   "id": "34491a66",
   "metadata": {},
   "outputs": [
    {
     "name": "stdout",
     "output_type": "stream",
     "text": [
      "(150, 4)\n",
      "(150,)\n"
     ]
    }
   ],
   "source": [
    "iris = datasets.load_iris()\n",
    "\n",
    "# split dataset into features and labels \n",
    "X = iris.data\n",
    "y = iris.target \n",
    "\n",
    "classes = ['Iris Setosa', 'Iris Versicolour', 'Iris Virginica']\n",
    "\n",
    "print(X.shape)\n",
    "print(y.shape)"
   ]
  },
  {
   "cell_type": "code",
   "execution_count": 13,
   "id": "661f41b5",
   "metadata": {},
   "outputs": [],
   "source": [
    "# split dataset into train and test \n",
    "\n",
    "X_train, X_test, y_train, y_test = train_test_split(X, y, test_size=0.2)"
   ]
  },
  {
   "cell_type": "code",
   "execution_count": 14,
   "id": "29abe5e6",
   "metadata": {},
   "outputs": [
    {
     "name": "stdout",
     "output_type": "stream",
     "text": [
      "SVC()\n"
     ]
    }
   ],
   "source": [
    "# fit the data and train the model\n",
    "model = svm.SVC()\n",
    "model.fit(X_train, y_train)\n",
    "\n",
    "print(model)"
   ]
  },
  {
   "cell_type": "code",
   "execution_count": null,
   "id": "b7ac0d73",
   "metadata": {},
   "outputs": [
    {
     "name": "stdout",
     "output_type": "stream",
     "text": [
      "Predictions:  [0 2 1 0 1 2 1 2 2 1 1 0 0 1 2 1 1 0 2 1 0 0 1 0 1 0 0 1 2 0]\n",
      "Actual:  [0 2 1 0 1 2 1 2 2 1 1 0 0 1 1 1 1 0 2 1 0 0 1 0 1 0 0 1 2 0]\n",
      "Accuracy: 0.97%\n"
     ]
    }
   ],
   "source": [
    "# predictions \n",
    "\n",
    "predictions = model.predict(X_test)\n",
    "acc = accuracy_score(y_test, predictions)\n",
    "\n",
    "print(\"Predictions: \", predictions)\n",
    "print(\"Actual: \", y_test)\n",
    "print(f\"Accuracy: {round(acc, 2)}%\")"
   ]
  },
  {
   "cell_type": "code",
   "execution_count": 21,
   "id": "14a1a211",
   "metadata": {},
   "outputs": [
    {
     "name": "stdout",
     "output_type": "stream",
     "text": [
      "Iris Setosa\n",
      "Iris Virginica\n",
      "Iris Versicolour\n",
      "Iris Setosa\n",
      "Iris Versicolour\n",
      "Iris Virginica\n",
      "Iris Versicolour\n",
      "Iris Virginica\n",
      "Iris Virginica\n",
      "Iris Versicolour\n",
      "Iris Versicolour\n",
      "Iris Setosa\n",
      "Iris Setosa\n",
      "Iris Versicolour\n",
      "Iris Virginica\n",
      "Iris Versicolour\n",
      "Iris Versicolour\n",
      "Iris Setosa\n",
      "Iris Virginica\n",
      "Iris Versicolour\n",
      "Iris Setosa\n",
      "Iris Setosa\n",
      "Iris Versicolour\n",
      "Iris Setosa\n",
      "Iris Versicolour\n",
      "Iris Setosa\n",
      "Iris Setosa\n",
      "Iris Versicolour\n",
      "Iris Virginica\n",
      "Iris Setosa\n"
     ]
    }
   ],
   "source": [
    "for i in range(len(predictions)): \n",
    "    print(classes[predictions[i]])"
   ]
  }
 ],
 "metadata": {
  "kernelspec": {
   "display_name": ".cortex_engine",
   "language": "python",
   "name": "python3"
  },
  "language_info": {
   "codemirror_mode": {
    "name": "ipython",
    "version": 3
   },
   "file_extension": ".py",
   "mimetype": "text/x-python",
   "name": "python",
   "nbconvert_exporter": "python",
   "pygments_lexer": "ipython3",
   "version": "3.13.2"
  }
 },
 "nbformat": 4,
 "nbformat_minor": 5
}
