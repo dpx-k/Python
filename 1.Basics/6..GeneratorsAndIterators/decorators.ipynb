{
 "cells": [
  {
   "cell_type": "markdown",
   "id": "99449414",
   "metadata": {},
   "source": [
    "## Decorators \n",
    "\n",
    "A special type of function (using the @ syntax) that wraps another function to extend or modify its behavior without directly changing the original function's code. Think of it as putting a \"wrapper\" around a function."
   ]
  },
  {
   "cell_type": "code",
   "execution_count": 31,
   "id": "63b3d126",
   "metadata": {},
   "outputs": [
    {
     "data": {
      "text/plain": [
       "'Hello, User!'"
      ]
     },
     "execution_count": 31,
     "metadata": {},
     "output_type": "execute_result"
    }
   ],
   "source": [
    "# function copy\n",
    "\n",
    "def welcome(name = 'User'): \n",
    "    return f\"Hello, {name}!\"\n",
    "\n",
    "welcome()"
   ]
  },
  {
   "cell_type": "code",
   "execution_count": 32,
   "id": "db095f6e",
   "metadata": {},
   "outputs": [
    {
     "name": "stdout",
     "output_type": "stream",
     "text": [
      "Hello, User!\n",
      "Hello, User!\n"
     ]
    }
   ],
   "source": [
    "wel = welcome\n",
    "print(wel())\n",
    "del welcome \n",
    "print(wel())\n",
    "\n"
   ]
  },
  {
   "cell_type": "code",
   "execution_count": 33,
   "id": "7b54b28b",
   "metadata": {},
   "outputs": [
    {
     "name": "stdout",
     "output_type": "stream",
     "text": [
      "Welcome to Python 3.13\n",
      "Welcome\n",
      "This line is inside the sub function\n"
     ]
    }
   ],
   "source": [
    "## Closures - nested functions in simple terms\n",
    "\n",
    "def main_welcome(): \n",
    "    message = \"Welcome\"\n",
    "    def sub_welcome_method(): \n",
    "        print(\"Welcome to Python 3.13\")\n",
    "        print(message)\n",
    "        print(\"This line is inside the sub function\")\n",
    "    return sub_welcome_method()\n",
    "\n",
    "main_welcome()"
   ]
  },
  {
   "cell_type": "code",
   "execution_count": 34,
   "id": "2ae39143",
   "metadata": {},
   "outputs": [
    {
     "data": {
      "text/plain": [
       "<function __main__.main_welcome.<locals>.sub_welcome_method()>"
      ]
     },
     "execution_count": 34,
     "metadata": {},
     "output_type": "execute_result"
    }
   ],
   "source": [
    "# you can pass a function as a parameter to another function \n",
    "\n",
    "def main_welcome(func): \n",
    "    message = \"Welcome\"\n",
    "    def sub_welcome_method(): \n",
    "        print(\"Welcome to Python 3.13\")\n",
    "        func(\"Welcome Deepak!\")\n",
    "        print(\"This line is inside the sub function\")\n",
    "    return sub_welcome_method\n",
    "\n",
    "main_welcome(print)\n"
   ]
  },
  {
   "cell_type": "code",
   "execution_count": 35,
   "id": "2606fd53",
   "metadata": {},
   "outputs": [
    {
     "name": "stdout",
     "output_type": "stream",
     "text": [
      "Welcome to Python 3.13\n",
      "Age: Welcome Deepak!\n",
      "City: Bengaluru\n",
      "This line is inside the sub function\n"
     ]
    }
   ],
   "source": [
    "# Decorators\n",
    "\n",
    "@main_welcome\n",
    "def print_details(age = 18, city = \"Bengaluru\"): \n",
    "    print(f\"Age: {age}\")\n",
    "    print(f\"City: {city}\")\n",
    "    return \"Details Printed!\"\n",
    "\n",
    "print_details()"
   ]
  },
  {
   "cell_type": "code",
   "execution_count": 37,
   "id": "c053cf89",
   "metadata": {},
   "outputs": [
    {
     "name": "stdout",
     "output_type": "stream",
     "text": [
      "Something happened before the function was called\n",
      "Hello!!\n",
      "Something happened after the function was called\n"
     ]
    }
   ],
   "source": [
    "# Another decorator \n",
    "\n",
    "def my_decorator(func): \n",
    "    def wrapper(): \n",
    "        print(\"Something happened before the function was called\")\n",
    "        func()\n",
    "        print(\"Something happened after the function was called\")\n",
    "    return wrapper\n",
    "\n",
    "@my_decorator\n",
    "def say_hello(): \n",
    "    print(\"Hello!!\")\n",
    "\n",
    "say_hello()"
   ]
  },
  {
   "cell_type": "code",
   "execution_count": 39,
   "id": "b189b778",
   "metadata": {},
   "outputs": [
    {
     "name": "stdout",
     "output_type": "stream",
     "text": [
      "Hello\n",
      "Hello\n",
      "Hello\n"
     ]
    }
   ],
   "source": [
    "# Decorator with arguments\n",
    "def repeat(n): \n",
    "    def decorator(func): \n",
    "        def wrapper(*args, **kwargs): \n",
    "            for _ in range(n): \n",
    "                func(*args, **kwargs)\n",
    "        return wrapper\n",
    "    return decorator\n",
    "\n",
    "@repeat(3)\n",
    "def say_hello(): \n",
    "    print(\"Hello\")\n",
    "\n",
    "say_hello()"
   ]
  }
 ],
 "metadata": {
  "kernelspec": {
   "display_name": "cortex_engine",
   "language": "python",
   "name": "python3"
  },
  "language_info": {
   "codemirror_mode": {
    "name": "ipython",
    "version": 3
   },
   "file_extension": ".py",
   "mimetype": "text/x-python",
   "name": "python",
   "nbconvert_exporter": "python",
   "pygments_lexer": "ipython3",
   "version": "3.13.2"
  }
 },
 "nbformat": 4,
 "nbformat_minor": 5
}
