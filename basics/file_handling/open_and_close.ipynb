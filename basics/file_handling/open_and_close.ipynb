{
 "cells": [
  {
   "cell_type": "code",
   "execution_count": 9,
   "id": "3bec43b6",
   "metadata": {},
   "outputs": [
    {
     "name": "stdout",
     "output_type": "stream",
     "text": [
      "['The quick brown fox jumps over the lazy dog. 12345.\\n', 'Serendipity abounds in the quiet corners of forgotten dreams. \\n', 'A cascade of whispers danced on the breeze, carrying echoes of adventures yet to unfold. \\n', 'The old clock ticked rhythmically, measuring out moments in an infinite tapestry of time.\\n', 'Shadows lengthened, painting the world in hues of twilight, while a lone owl hooted softly from the ancient oak.\\n', 'ZYXWVU. 9876.\\n', 'The hidden message was always in plain sight, veiled by the ordinary, waiting for the curious mind to decipher its secrets.']\n",
      "The quick brown fox jumps over the lazy dog. 12345.\n",
      "\n",
      "Serendipity abounds in the quiet corners of forgotten dreams. \n",
      "\n",
      "A cascade of whispers danced on the breeze, carrying echoes of adventures yet to unfold. \n",
      "\n",
      "The old clock ticked rhythmically, measuring out moments in an infinite tapestry of time.\n",
      "\n",
      "Shadows lengthened, painting the world in hues of twilight, while a lone owl hooted softly from the ancient oak.\n",
      "\n",
      "ZYXWVU. 9876.\n",
      "\n",
      "The hidden message was always in plain sight, veiled by the ordinary, waiting for the curious mind to decipher its secrets.\n"
     ]
    }
   ],
   "source": [
    "# opening and closing text files\n",
    "\n",
    "file = open(\"text_file.txt\", \"r\")\n",
    "# content = file.read() # read the text as a single string\n",
    "lines = file.readlines() # stores the text as a list of lines \n",
    "print(lines)\n",
    "for line in lines: \n",
    "    print(line)\n",
    "\n",
    "# print(content)\n",
    "\n",
    "file.close()"
   ]
  }
 ],
 "metadata": {
  "kernelspec": {
   "display_name": "cortex_engine",
   "language": "python",
   "name": "python3"
  },
  "language_info": {
   "codemirror_mode": {
    "name": "ipython",
    "version": 3
   },
   "file_extension": ".py",
   "mimetype": "text/x-python",
   "name": "python",
   "nbconvert_exporter": "python",
   "pygments_lexer": "ipython3",
   "version": "3.13.2"
  }
 },
 "nbformat": 4,
 "nbformat_minor": 5
}
