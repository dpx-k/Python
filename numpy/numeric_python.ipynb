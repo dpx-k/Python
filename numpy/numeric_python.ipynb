{
 "cells": [
  {
   "cell_type": "code",
   "execution_count": 70,
   "id": "e1858a41",
   "metadata": {},
   "outputs": [],
   "source": [
    "import numpy as np"
   ]
  },
  {
   "cell_type": "code",
   "execution_count": 71,
   "id": "c5d5ea69",
   "metadata": {},
   "outputs": [
    {
     "name": "stdout",
     "output_type": "stream",
     "text": [
      "[1 2 3 4 5]\n",
      "2\n",
      "[2 3 4 5]\n",
      "[1 2 3]\n",
      "[ 1 47  3  4  5]\n",
      "[10 20 30 40 50]\n",
      "int8\n"
     ]
    }
   ],
   "source": [
    "# declaring a numpy array\n",
    "\n",
    "array = np.array([1,2,3,4,5], dtype = np.int8)\n",
    "print(array)\n",
    "\n",
    "# slicing and indexing operations are similar to lists \n",
    "print(array[1])\n",
    "print(array[1:])\n",
    "print(array[:-2])\n",
    "\n",
    "array[1] = 47\n",
    "\n",
    "print(array)\n",
    "\n",
    "multiplier = 10\n",
    "for i, num in enumerate(array): \n",
    "    array[i] = multiplier\n",
    "    multiplier += 10\n",
    "\n",
    "print(array)\n",
    "\n",
    "print(array.dtype)"
   ]
  },
  {
   "cell_type": "code",
   "execution_count": 72,
   "id": "7cf14f88",
   "metadata": {},
   "outputs": [
    {
     "name": "stdout",
     "output_type": "stream",
     "text": [
      "[[1 2 3]\n",
      " [4 5 6]\n",
      " [7 8 9]]\n"
     ]
    }
   ],
   "source": [
    "# multidimensional array \n",
    "\n",
    "twod_array = np.array([[1,2,3],\n",
    "                       [4,5,6],\n",
    "                       [7,8,9]])\n",
    "\n",
    "print(twod_array)"
   ]
  },
  {
   "cell_type": "code",
   "execution_count": 73,
   "id": "bd1641d0",
   "metadata": {},
   "outputs": [
    {
     "name": "stdout",
     "output_type": "stream",
     "text": [
      "(3, 3)\n",
      "2\n",
      "9\n",
      "int64\n"
     ]
    }
   ],
   "source": [
    "# numpy attributes \n",
    "\n",
    "print(twod_array.shape) # returns in the format (rows, columns), if (breadth, width, height)\n",
    "print(twod_array.ndim) # returns the dimensions of the array \n",
    "print(twod_array.size) # returns the number of elements in the array\n",
    "print(twod_array.dtype) # returns the data type of the elements of the array"
   ]
  },
  {
   "cell_type": "code",
   "execution_count": 74,
   "id": "6c388092",
   "metadata": {},
   "outputs": [
    {
     "name": "stdout",
     "output_type": "stream",
     "text": [
      "[[['Deepak' 'Deepak' 'Deepak' 'Deepak']\n",
      "  ['Deepak' 'Deepak' 'Deepak' 'Deepak']\n",
      "  ['Deepak' 'Deepak' 'Deepak' 'Deepak']]\n",
      "\n",
      " [['Deepak' 'Deepak' 'Deepak' 'Deepak']\n",
      "  ['Deepak' 'Deepak' 'Deepak' 'Deepak']\n",
      "  ['Deepak' 'Deepak' 'Deepak' 'Deepak']]]\n",
      "<U6\n"
     ]
    }
   ],
   "source": [
    "# numpy methods\n",
    "\n",
    "# fill an array with shape and specific value using the full() method \n",
    "names = np.full((2,3,4), \"Deepak\")\n",
    "print(names)\n",
    "\n",
    "print(names.dtype)"
   ]
  },
  {
   "cell_type": "code",
   "execution_count": 75,
   "id": "5f82f629",
   "metadata": {},
   "outputs": [
    {
     "name": "stdout",
     "output_type": "stream",
     "text": [
      "[[1 1 1 1]\n",
      " [1 1 1 1]] \n",
      "\n",
      "[[0 0 0]\n",
      " [0 0 0]\n",
      " [0 0 0]]\n",
      "int8\n",
      "int8\n"
     ]
    }
   ],
   "source": [
    "# fill an array with ones or zeroes using the ones() and zeros() method \n",
    "\n",
    "ones = np.ones((2,4), dtype = np.int8) # the default is float64\n",
    "zeroes = np.zeros((3,3), dtype = np.int8)\n",
    "\n",
    "print(ones, '\\n')\n",
    "print(zeroes)\n",
    "\n",
    "print(ones.dtype)\n",
    "print(zeroes.dtype)"
   ]
  },
  {
   "cell_type": "code",
   "execution_count": 76,
   "id": "cc889ec6",
   "metadata": {},
   "outputs": [
    {
     "name": "stdout",
     "output_type": "stream",
     "text": [
      "[[[0. 0. 0.]\n",
      "  [0. 0. 0.]\n",
      "  [0. 0. 0.]]\n",
      "\n",
      " [[0. 0. 0.]\n",
      "  [0. 0. 0.]\n",
      "  [0. 0. 0.]]\n",
      "\n",
      " [[0. 0. 0.]\n",
      "  [0. 0. 0.]\n",
      "  [0. 0. 0.]]]\n"
     ]
    }
   ],
   "source": [
    "# allocate memory of specifed shape without initialising \n",
    "\n",
    "empty_array = np.empty((3,3,3))\n",
    "\n",
    "print(empty_array)"
   ]
  },
  {
   "cell_type": "code",
   "execution_count": 77,
   "id": "5eda354d",
   "metadata": {},
   "outputs": [
    {
     "name": "stdout",
     "output_type": "stream",
     "text": [
      "[   0    5   10   15   20   25   30   35   40   45   50   55   60   65\n",
      "   70   75   80   85   90   95  100  105  110  115  120  125  130  135\n",
      "  140  145  150  155  160  165  170  175  180  185  190  195  200  205\n",
      "  210  215  220  225  230  235  240  245  250  255  260  265  270  275\n",
      "  280  285  290  295  300  305  310  315  320  325  330  335  340  345\n",
      "  350  355  360  365  370  375  380  385  390  395  400  405  410  415\n",
      "  420  425  430  435  440  445  450  455  460  465  470  475  480  485\n",
      "  490  495  500  505  510  515  520  525  530  535  540  545  550  555\n",
      "  560  565  570  575  580  585  590  595  600  605  610  615  620  625\n",
      "  630  635  640  645  650  655  660  665  670  675  680  685  690  695\n",
      "  700  705  710  715  720  725  730  735  740  745  750  755  760  765\n",
      "  770  775  780  785  790  795  800  805  810  815  820  825  830  835\n",
      "  840  845  850  855  860  865  870  875  880  885  890  895  900  905\n",
      "  910  915  920  925  930  935  940  945  950  955  960  965  970  975\n",
      "  980  985  990  995 1000]\n",
      "[   1.           23.70454545   46.40909091   69.11363636   91.81818182\n",
      "  114.52272727  137.22727273  159.93181818  182.63636364  205.34090909\n",
      "  228.04545455  250.75        273.45454545  296.15909091  318.86363636\n",
      "  341.56818182  364.27272727  386.97727273  409.68181818  432.38636364\n",
      "  455.09090909  477.79545455  500.5         523.20454545  545.90909091\n",
      "  568.61363636  591.31818182  614.02272727  636.72727273  659.43181818\n",
      "  682.13636364  704.84090909  727.54545455  750.25        772.95454545\n",
      "  795.65909091  818.36363636  841.06818182  863.77272727  886.47727273\n",
      "  909.18181818  931.88636364  954.59090909  977.29545455 1000.        ]\n"
     ]
    }
   ],
   "source": [
    "# fill arrays with special methods: arange() and linspace()\n",
    "\n",
    "sequence = np.arange(0, 1005, 5)  # works similar to range function (start, end, step)\n",
    "print(sequence)\n",
    "\n",
    "distribute = np.linspace(1, 1000, 45) # distributes all the values evenly from start to end in the given size (start, end, size)\n",
    "\n",
    "# distributes 1-1000 evenly over 45 elements\n",
    "print(distribute)"
   ]
  },
  {
   "cell_type": "code",
   "execution_count": 78,
   "id": "7abb7ce0",
   "metadata": {},
   "outputs": [
    {
     "name": "stdout",
     "output_type": "stream",
     "text": [
      "nan\n",
      "inf\n",
      "True\n"
     ]
    },
    {
     "name": "stderr",
     "output_type": "stream",
     "text": [
      "/var/folders/h6/2zxlvljx3vb0hvfr9zhz6trh0000gn/T/ipykernel_3158/4224694934.py:11: RuntimeWarning: invalid value encountered in sqrt\n",
      "  print(np.isnan(np.sqrt(-1)))\n"
     ]
    },
    {
     "ename": "ZeroDivisionError",
     "evalue": "division by zero",
     "output_type": "error",
     "traceback": [
      "\u001b[31m---------------------------------------------------------------------------\u001b[39m",
      "\u001b[31mZeroDivisionError\u001b[39m                         Traceback (most recent call last)",
      "\u001b[36mCell\u001b[39m\u001b[36m \u001b[39m\u001b[32mIn[78]\u001b[39m\u001b[32m, line 12\u001b[39m\n\u001b[32m      9\u001b[39m \u001b[38;5;66;03m#example usage \u001b[39;00m\n\u001b[32m     11\u001b[39m \u001b[38;5;28mprint\u001b[39m(np.isnan(np.sqrt(-\u001b[32m1\u001b[39m)))\n\u001b[32m---> \u001b[39m\u001b[32m12\u001b[39m \u001b[38;5;28mprint\u001b[39m(np.isinf(\u001b[32;43m1\u001b[39;49m\u001b[43m \u001b[49m\u001b[43m/\u001b[49m\u001b[43m \u001b[49m\u001b[32;43m0\u001b[39;49m))\n",
      "\u001b[31mZeroDivisionError\u001b[39m: division by zero"
     ]
    }
   ],
   "source": [
    "# two important attributes when dealing with exceptional values\n",
    "\n",
    "print(np.nan) # can be interchanged with 0\n",
    "print(np.inf) # can be used instead of throwing out a DivisionByZero exception\n",
    "\n",
    "np.isnan(np.nan) # returns true or false \n",
    "np.isinf(np.inf) # returns true of false \n",
    "\n",
    "#example usage \n",
    "\n",
    "print(np.isnan(np.sqrt(-1)))\n",
    "print(np.isinf(1 / 0))"
   ]
  },
  {
   "cell_type": "code",
   "execution_count": null,
   "id": "3599ab1f",
   "metadata": {},
   "outputs": [],
   "source": [
    "# arithmetic operations on arrays\n",
    "\n",
    "array_1 = np.arange(1, 10)\n",
    "array_2 = np.arange(10, 19)\n",
    "\n",
    "# the reshape method reshapes the array into the specified shape, but there should exactly the same number of elements for reshape to work\n",
    "reshaped_array_1 = array_1.reshape(3,3)\n",
    "reshaped_array_2 = array_2.reshape(3,3)\n",
    "\n",
    "print(array_1, \"\\n\")\n",
    "print(array_2, \"\\n\")\n",
    "\n",
    "print(array_1 + array_2) # add \n",
    "print(array_1 - array_2) # subtract \n",
    "print(array_1 * array_2) # multiply\n",
    "print(array_1 / array_2) # divide\n",
    "\n",
    "print(reshaped_array_1 @ reshaped_array_2) # perform matrix multiplication\n",
    "\n",
    "# reshape() doesn require assignment \n",
    "# resize() performs the same thing but it does not require assignment to variable "
   ]
  },
  {
   "cell_type": "code",
   "execution_count": null,
   "id": "1aa332e1",
   "metadata": {},
   "outputs": [],
   "source": [
    "# Adding elements to an array \n",
    "\n",
    "a = np.array([1,2,3,4,5])\n",
    "print(a)\n",
    "\n",
    "a = np.append(a, [6,7,8,9,10])\n",
    "print(a)"
   ]
  },
  {
   "cell_type": "code",
   "execution_count": null,
   "id": "a91aa8b7",
   "metadata": {},
   "outputs": [],
   "source": [
    "# deleting element from an array \n",
    "\n",
    "b = np.array([[1,2,3,4,5],\n",
    "              [6,7,8,9,10]])\n",
    "print(b)\n",
    "\n",
    "b = np.delete(b, 8) # array reshaped to 1D and the element at the 8th index is deleted\n",
    "print(b)\n",
    "\n",
    "#deleting entire rows and columns\n",
    "\n",
    "c = np.array([[1,2,3,4,5],\n",
    "              [6,7,8,9,10]])\n",
    "print(c)\n",
    "print(np.delete(c, 1, 0)) # deletes entire second row"
   ]
  },
  {
   "cell_type": "markdown",
   "id": "6dcef029",
   "metadata": {},
   "source": [
    "\n",
    "## NumPy Arrays (`ndarray`)\n",
    "\n",
    "1.  **Core Concept:** A NumPy array (specifically, the `ndarray` object) is the fundamental data structure in the NumPy library. It's a powerful N-dimensional array object, which is essentially a grid of values, *all of the same data type*.\n",
    "\n",
    "2.  **Key Advantages over Python Lists:**\n",
    "    * **Performance:** NumPy operations are implemented in C, making them much faster than equivalent operations on Python lists, especially for large datasets.\n",
    "\n",
    "    * **Memory Efficiency:** Arrays store elements of the same type contiguously in memory, unlike Python lists which can hold objects of different types scattered in memory. This leads to smaller memory footprints.\n",
    "\n",
    "    * **Functionality:** Provides a vast collection of high-level mathematical functions that operate efficiently on arrays (e.g., linear algebra, Fourier transforms, random number generation).\n",
    "\n",
    "    * **Vectorization:** Allows you to perform operations on entire arrays element-wise without writing explicit loops in Python. For example, `array * 2` multiplies every element in the array by 2.\n",
    "\n",
    "3.  **Key Attributes:** Every `ndarray` has important attributes:\n",
    "    * `ndarray.ndim`: The number of dimensions (or axes) of the array.\n",
    "    * `ndarray.shape`: A tuple indicating the size of the array along each dimension (e.g., `(3, 4)` for a 3x4 matrix).\n",
    "    * `ndarray.size`: The total number of elements in the array.\n",
    "    * `ndarray.dtype`: An object describing the data type of the elements (e.g., `int64`, `float64`, `bool`).\n",
    "\n",
    "4.  **Creation:** Commonly created from Python lists or tuples using `np.array()`, or using built-in functions like `np.zeros()`, `np.ones()`, `np.arange()`, `np.linspace()`.\n",
    "\n",
    "5.  **Indexing & Slicing:** Similar to Python lists for 1D arrays, but extends naturally to multiple dimensions using comma-separated indices or slices (e.g., `array[1, 2]` or `array[0, :]`).\n",
    "\n",
    "**In short:** NumPy arrays are efficient, high-performance multi-dimensional containers for numerical data, forming the bedrock of scientific computing in Python. They enable fast, vectorized operations crucial for data analysis, machine learning, and scientific simulations."
   ]
  },
  {
   "cell_type": "markdown",
   "id": "22e354d6",
   "metadata": {},
   "source": [
    "## Data types in NumPy\n",
    "\n",
    "NumPy provides a wide variety of data types that you can use to define the elements of your arrays. These data types are similar to the built-in Python types but with some added functionalities and more specific sizes. Here's a breakdown of the available data type categories in NumPy:\n",
    "\n",
    "**1. Booleans:**\n",
    "\n",
    "* `np.bool_`: Represents boolean values (True or False). It's stored as a single byte.\n",
    "\n",
    "**2. Integers:**\n",
    "\n",
    "* **Signed Integers:** These can represent both positive and negative whole numbers.\n",
    "    * `np.int8`: Byte (-128 to 127)\n",
    "    * `np.int16`: Integer (-32768 to 32767)\n",
    "    * `np.int32`: Integer (-2147483648 to 2147483647)\n",
    "    * `np.int64` or `np.int_`: Integer (-9223372036854775808 to 9223372036854775807). This is the default integer type in NumPy and is typically equivalent to C `long`.\n",
    "    * `np.intc`: Identical to the C `int` (usually `int32` or `int64`, depending on the platform).\n",
    "    * `np.intp`: Integer used for indexing, typically the same as C `ssize_t` (usually `int32` or `int64`, depending on the platform).\n",
    "* **Unsigned Integers:** These can only represent non-negative whole numbers.\n",
    "    * `np.uint8`: Unsigned byte (0 to 255)\n",
    "    * `np.uint16`: Unsigned integer (0 to 65535)\n",
    "    * `np.uint32`: Unsigned integer (0 to 4294967295)\n",
    "    * `np.uint64` or `np.uint`: Unsigned integer (0 to 18446744073709551615). This is typically equivalent to C `unsigned long`.\n",
    "    * `np.uintc`: Identical to the C `unsigned int` (usually `uint32` or `uint64`, depending on the platform).\n",
    "    * `np.uintp`: Unsigned integer used for indexing, typically the same as C `size_t` (usually `uint32` or `uint64`, depending on the platform).\n",
    "\n",
    "**3. Floating-Point Numbers:**\n",
    "\n",
    "* `np.float16` or `np.half`: Half-precision float (sign bit, 5 bits exponent, 10 bits mantissa)\n",
    "* `np.float32` or `np.single`: Single-precision float (sign bit, 8 bits exponent, 23 bits mantissa)\n",
    "* `np.float64` or `np.double` or `np.float_`: Double-precision float (sign bit, 11 bits exponent, 52 bits mantissa). This is the default floating-point type in NumPy and is typically equivalent to Python's `float`.\n",
    "* `np.longdouble`: Extended-precision float. The number of bits is platform-dependent (could be 96 or 128 bits).\n",
    "\n",
    "**4. Complex Numbers:**\n",
    "\n",
    "* `np.complex64` or `np.csingle`: Complex number represented by two 32-bit floats (real and imaginary parts).\n",
    "* `np.complex128` or `np.cdouble` or `np.complex_`: Complex number represented by two 64-bit floats (real and imaginary parts). This is the default complex type in NumPy and is typically equivalent to Python's `complex`.\n",
    "* `np.clongdouble`: Complex number represented by two extended-precision floats.\n",
    "\n",
    "**5. Strings:**\n",
    "\n",
    "* `np.str_` or `np.unicode_`: Fixed-length Unicode string. The length is determined when the array is created. For example, `np.array(['hello', 'world'], dtype='U5')` creates an array of Unicode strings, each with a maximum length of 5 characters.\n",
    "* `np.bytes_` or `np.string_`: Fixed-length byte string. Similar to Unicode strings but stores raw bytes.\n",
    "\n",
    "**6. Objects:**\n",
    "\n",
    "* `np.object_` or `np.object`: Allows storing Python objects in the array. This can be useful for arrays with elements of different types, but it loses the performance benefits of NumPy arrays with fixed data types.\n",
    "\n",
    "**7. Datetime and Timedelta:**\n",
    "\n",
    "* `np.datetime64`: Represents dates and times with various levels of precision.\n",
    "* `np.timedelta64`: Represents differences between datetimes (time durations).\n",
    "\n",
    "**8. Fixed-size chunks of memory (void):**\n",
    "\n",
    "* `np.void`: Represents a fixed-size sequence of bytes. It can be useful for low-level operations or when dealing with structured data types.\n",
    "\n",
    "You can specify the data type of a NumPy array when you create it using the `dtype` argument:\n",
    "\n",
    "```python\n",
    "import numpy as np\n",
    "\n",
    "int_array = np.array([1, 2, 3], dtype=np.int32)\n",
    "float_array = np.array([1.0, 2.5, 3.7], dtype=np.float64)\n",
    "string_array = np.array(['apple', 'banana'], dtype='U6')\n",
    "```\n",
    "\n",
    "You can also check the data type of an existing array using the `.dtype` attribute:\n",
    "\n",
    "```python\n",
    "print(int_array.dtype)  # Output: int32\n",
    "print(string_array.dtype) # Output: <U6\n",
    "```\n",
    "\n",
    "Choosing the appropriate data type is important for memory efficiency and performance. Using a smaller data type (e.g., `int16` instead of `int64`) can save memory if the values in your array are within the range of the smaller type. NumPy's vectorized operations are also generally faster when working with arrays of a specific, fixed data type."
   ]
  },
  {
   "cell_type": "markdown",
   "id": "af5506d3",
   "metadata": {},
   "source": [
    "**User Notes**\n",
    "\n",
    "* Numpy arrays contain homogeneous data type\n",
    "* Arithmetic operations follow the rules of matrix operations when it comes to shapes, although division is an exception\n",
    " "
   ]
  }
 ],
 "metadata": {
  "kernelspec": {
   "display_name": "cortex_engine",
   "language": "python",
   "name": "python3"
  },
  "language_info": {
   "codemirror_mode": {
    "name": "ipython",
    "version": 3
   },
   "file_extension": ".py",
   "mimetype": "text/x-python",
   "name": "python",
   "nbconvert_exporter": "python",
   "pygments_lexer": "ipython3",
   "version": "3.13.2"
  }
 },
 "nbformat": 4,
 "nbformat_minor": 5
}
