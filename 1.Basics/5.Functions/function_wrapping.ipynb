{
 "cells": [
  {
   "cell_type": "code",
   "execution_count": 1,
   "id": "df5ef076",
   "metadata": {},
   "outputs": [
    {
     "name": "stdout",
     "output_type": "stream",
     "text": [
      "0.0\n",
      "100.0\n"
     ]
    }
   ],
   "source": [
    "# COMPOSITE FUNCTIONS\n",
    "\n",
    "def compose(func1, func2): # func1 and func2 are functions\n",
    "    # return a *new* function that calls func1 with the output of func2\n",
    "    return lambda x: func1(func2(x))\n",
    "\n",
    "def subtract_32(x):\n",
    "    return x - 32\n",
    "\n",
    "def multiply_5_9(x):\n",
    "    return x * 5/9\n",
    "\n",
    "f_to_c = compose(multiply_5_9, subtract_32)\n",
    "\n",
    "print(f_to_c(32))  #   0.0\n",
    "print(f_to_c(212)) # 100.0\n"
   ]
  },
  {
   "cell_type": "code",
   "execution_count": 2,
   "id": "9145f7a0",
   "metadata": {},
   "outputs": [
    {
     "name": "stdout",
     "output_type": "stream",
     "text": [
      "About to call the function with argument 10\n",
      "Inside double\n",
      "Done with the function with argument 10. Result: 20\n"
     ]
    },
    {
     "data": {
      "text/plain": [
       "20"
      ]
     },
     "execution_count": 2,
     "metadata": {},
     "output_type": "execute_result"
    }
   ],
   "source": [
    "# WRAPPING FUNCTIONS USING DECOREATORS\n",
    "\n",
    "def addLogging(func): # The argument, func is a function\n",
    "\n",
    "    def wrapper(x): # x is the argument that we're going to pass to func\n",
    "        print(f\"About to call the function with argument {x}\")\n",
    "        result = func(x) # actually call our function and store the result\n",
    "        print(f\"Done with the function with argument {x}. Result: {result}\")\n",
    "        return result # return whatever our function returned\n",
    "\n",
    "    return wrapper # return our new function\n",
    "\n",
    "@addLogging # equivalent to double = addLogging(double)\n",
    "def double(x):\n",
    "    print(\"Inside double\")\n",
    "    return x * 2\n",
    "\n",
    "double(10)"
   ]
  },
  {
   "cell_type": "code",
   "execution_count": 3,
   "id": "4271eb14",
   "metadata": {},
   "outputs": [
    {
     "name": "stdout",
     "output_type": "stream",
     "text": [
      "~~~~~~~~~~~~~~~~~~~~~~~~~~~~~~~\n",
      "Shhh...this is a secret message\n",
      "~~~~~~~~~~~~~~~~~~~~~~~~~~~~~~~\n"
     ]
    }
   ],
   "source": [
    "# DECORATOR EXAMPLE 1\n",
    "\n",
    "# This is a decorator function that takes another function as an argument.\n",
    "def passwordProtect(func):\n",
    "\n",
    "    # This inner function is the one that will actually be called\n",
    "    # when we use the decorator on another function.\n",
    "    def wrappedFunc():\n",
    "        password = input('Enter the password to call the function:')\n",
    "\n",
    "        if password == 'password123': # correct password? then call the original function\n",
    "            func()\n",
    "        else: # If the password is not correct, deny access\n",
    "            print(\"Access denied. Sorry, you need to enter the correct password to get the secret message.\")\n",
    "\n",
    "    return wrappedFunc\n",
    "\n",
    "\n",
    "@passwordProtect\n",
    "def printSecretMessage():\n",
    "    secretMessage = \"Shhh...this is a secret message\"\n",
    "\n",
    "    # We print a series of \"~\" characters the same length as the message,\n",
    "    # then the message itself, then another series of \"~\" characters.\n",
    "    print(\"~\" * len(secretMessage))\n",
    "    print(secretMessage)\n",
    "    print(\"~\" * len(secretMessage))\n",
    "\n",
    "# By adding the decorator, we prompt the user for a password before printing the secret message.\n",
    "printSecretMessage()\n"
   ]
  }
 ],
 "metadata": {
  "kernelspec": {
   "display_name": ".cortex_engine",
   "language": "python",
   "name": "python3"
  },
  "language_info": {
   "codemirror_mode": {
    "name": "ipython",
    "version": 3
   },
   "file_extension": ".py",
   "mimetype": "text/x-python",
   "name": "python",
   "nbconvert_exporter": "python",
   "pygments_lexer": "ipython3",
   "version": "3.13.2"
  }
 },
 "nbformat": 4,
 "nbformat_minor": 5
}
