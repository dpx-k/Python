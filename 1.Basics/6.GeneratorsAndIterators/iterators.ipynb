{
 "cells": [
  {
   "cell_type": "markdown",
   "id": "a45f0c53",
   "metadata": {},
   "source": [
    "## Iterators\n",
    "\n",
    "Iterators allow for efficient looping and memory management. Iterators provide a way to access elements of a collection sequentilally without exposing the underlying structure"
   ]
  },
  {
   "cell_type": "code",
   "execution_count": 43,
   "id": "4a019bf6",
   "metadata": {},
   "outputs": [
    {
     "name": "stdout",
     "output_type": "stream",
     "text": [
      "1\n",
      "2\n",
      "3\n",
      "4\n",
      "5\n",
      "[1, 2, 3, 4, 5]\n"
     ]
    },
    {
     "data": {
      "text/plain": [
       "list"
      ]
     },
     "execution_count": 43,
     "metadata": {},
     "output_type": "execute_result"
    }
   ],
   "source": [
    "# A normal list in Python\n",
    "my_list = [1, 2, 3, 4, 5]\n",
    "\n",
    "for i in my_list: \n",
    "    print(i)\n",
    "\n",
    "print(my_list)\n",
    "\n",
    "type(my_list)"
   ]
  },
  {
   "cell_type": "code",
   "execution_count": 44,
   "id": "72e7ef43",
   "metadata": {},
   "outputs": [
    {
     "name": "stdout",
     "output_type": "stream",
     "text": [
      "<class 'list_iterator'>\n"
     ]
    }
   ],
   "source": [
    "# Using an Iterator\n",
    "\n",
    "iterator = iter(my_list)\n",
    "print(type(iterator))"
   ]
  },
  {
   "cell_type": "code",
   "execution_count": 45,
   "id": "f8632837",
   "metadata": {},
   "outputs": [
    {
     "data": {
      "text/plain": [
       "<list_iterator at 0x10760da20>"
      ]
     },
     "execution_count": 45,
     "metadata": {},
     "output_type": "execute_result"
    }
   ],
   "source": [
    "iterator # returns the memory address of the iterator object"
   ]
  },
  {
   "cell_type": "code",
   "execution_count": 46,
   "id": "0970eec2",
   "metadata": {},
   "outputs": [
    {
     "name": "stdout",
     "output_type": "stream",
     "text": [
      "1\n"
     ]
    }
   ],
   "source": [
    "# using the next() function to get the next item from the iterator\n",
    "print(next(iterator)) # the loop will continue until the iterator is exhausted"
   ]
  },
  {
   "cell_type": "code",
   "execution_count": 47,
   "id": "e48a94b8",
   "metadata": {},
   "outputs": [
    {
     "data": {
      "text/plain": [
       "'\\nThe iterator uses lazy loading technique meaning it will not load all the items in memory at once.\\nInstead, it will load the items one by one as needed.\\nThis is useful when dealing with large datasets or streams of data.\\n'"
      ]
     },
     "execution_count": 47,
     "metadata": {},
     "output_type": "execute_result"
    }
   ],
   "source": [
    "'''\n",
    "The iterator uses lazy loading technique meaning it will not load all the items in memory at once.\n",
    "Instead, it will load the items one by one as needed.\n",
    "This is useful when dealing with large datasets or streams of data.\n",
    "'''"
   ]
  },
  {
   "cell_type": "code",
   "execution_count": 48,
   "id": "afb2fce5",
   "metadata": {},
   "outputs": [
    {
     "name": "stdout",
     "output_type": "stream",
     "text": [
      "2\n",
      "3\n",
      "4\n",
      "5\n"
     ]
    }
   ],
   "source": [
    "for i in iterator: \n",
    "    print(i)"
   ]
  }
 ],
 "metadata": {
  "kernelspec": {
   "display_name": "cortex_engine",
   "language": "python",
   "name": "python3"
  },
  "language_info": {
   "codemirror_mode": {
    "name": "ipython",
    "version": 3
   },
   "file_extension": ".py",
   "mimetype": "text/x-python",
   "name": "python",
   "nbconvert_exporter": "python",
   "pygments_lexer": "ipython3",
   "version": "3.13.2"
  }
 },
 "nbformat": 4,
 "nbformat_minor": 5
}
